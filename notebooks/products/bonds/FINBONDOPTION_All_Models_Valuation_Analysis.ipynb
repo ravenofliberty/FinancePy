{
 "cells": [
  {
   "cell_type": "markdown",
   "metadata": {},
   "source": [
    "# Bond Option Pricing using Various Models"
   ]
  },
  {
   "cell_type": "markdown",
   "metadata": {},
   "source": [
    "Value an option on a coupon paying bond using the Hull-White, Black-Derman-Toy and Black-Karasinski model"
   ]
  },
  {
   "cell_type": "code",
   "execution_count": 31,
   "metadata": {},
   "outputs": [],
   "source": [
    "import numpy as np\n",
    "import matplotlib.pyplot as plt\n",
    "import time"
   ]
  },
  {
   "cell_type": "code",
   "execution_count": 32,
   "metadata": {},
   "outputs": [],
   "source": [
    "from financepy.utils import *\n",
    "from financepy.market.curves import *\n",
    "from financepy.models.bk_tree import BKTree\n",
    "from financepy.models.bdt_tree import BDTTree\n",
    "from financepy.models.hw_tree import HWTree\n",
    "from financepy.products.bonds import *"
   ]
  },
  {
   "cell_type": "markdown",
   "metadata": {},
   "source": [
    "## Set up the Discount Curve"
   ]
  },
  {
   "cell_type": "code",
   "execution_count": 33,
   "metadata": {},
   "outputs": [],
   "source": [
    "settle_date = Date(1, 12, 2019)"
   ]
  },
  {
   "cell_type": "markdown",
   "metadata": {},
   "source": [
    "Set up discount curve"
   ]
  },
  {
   "cell_type": "code",
   "execution_count": 34,
   "metadata": {},
   "outputs": [],
   "source": [
    "rate = 0.10\n",
    "dcType = DayCountTypes.THIRTY_360_BOND\n",
    "fixedFreq = FrequencyTypes.SEMI_ANNUAL\n",
    "discount_curve = DiscountCurveFlat(settle_date, rate, fixedFreq, dcType)"
   ]
  },
  {
   "cell_type": "markdown",
   "metadata": {},
   "source": [
    "## Set up the Bond Option"
   ]
  },
  {
   "cell_type": "markdown",
   "metadata": {},
   "source": [
    "First create the bond"
   ]
  },
  {
   "cell_type": "code",
   "execution_count": 35,
   "metadata": {},
   "outputs": [],
   "source": [
    "issue_date = Date(1,12,2018)\n",
    "maturity_date = issue_date.add_tenor(\"3Y\")\n",
    "coupon = 0.10\n",
    "frequencyType = FrequencyTypes.SEMI_ANNUAL\n",
    "dc_type = DayCountTypes.THIRTY_360_BOND\n",
    "bond = Bond(issue_date, maturity_date, coupon, frequencyType, dc_type)"
   ]
  },
  {
   "cell_type": "markdown",
   "metadata": {},
   "source": [
    "Let's first price the bond on the libor curve"
   ]
  },
  {
   "cell_type": "code",
   "execution_count": 36,
   "metadata": {},
   "outputs": [
    {
     "name": "stdout",
     "output_type": "stream",
     "text": [
      "Fixed Income Clean Price:   100.000\n",
      "Fixed Income Dirty Price:   100.000\n"
     ]
    }
   ],
   "source": [
    "cp = bond.clean_price_from_discount_curve(settle_date, discount_curve)\n",
    "dp = bond.dirty_price_from_discount_curve(settle_date, discount_curve)\n",
    "print(\"Fixed Income Clean Price: %9.3f\"% cp)\n",
    "print(\"Fixed Income Dirty Price: %9.3f\"% dp)"
   ]
  },
  {
   "cell_type": "code",
   "execution_count": 37,
   "metadata": {},
   "outputs": [
    {
     "data": {
      "text/plain": [
       "01-DEC-2019"
      ]
     },
     "execution_count": 37,
     "metadata": {},
     "output_type": "execute_result"
    }
   ],
   "source": [
    "settle_date"
   ]
  },
  {
   "cell_type": "code",
   "execution_count": 38,
   "metadata": {},
   "outputs": [
    {
     "name": "stdout",
     "output_type": "stream",
     "text": [
      " 01-JUN-2020      5.00000 \n",
      " 01-DEC-2020      5.00000 \n",
      " 01-JUN-2021      5.00000 \n",
      " 01-DEC-2021    105.00000 \n",
      "\n"
     ]
    }
   ],
   "source": [
    "bond.print_payments(settle_date)"
   ]
  },
  {
   "cell_type": "markdown",
   "metadata": {},
   "source": [
    "# Create the Bond Options"
   ]
  },
  {
   "cell_type": "markdown",
   "metadata": {},
   "source": [
    "Then define and create the option"
   ]
  },
  {
   "cell_type": "code",
   "execution_count": 39,
   "metadata": {},
   "outputs": [],
   "source": [
    "expiry_date = settle_date.add_tenor(\"18m\")\n",
    "strike_price = 95.0\n",
    "face_amount = 100.0"
   ]
  },
  {
   "cell_type": "code",
   "execution_count": 52,
   "metadata": {},
   "outputs": [],
   "source": [
    "europeanCall = BondOption(bond, expiry_date, strike_price, OptionTypes.EUROPEAN_CALL)\n",
    "americanCall = BondOption(bond, expiry_date, strike_price, OptionTypes.AMERICAN_CALL)"
   ]
  },
  {
   "cell_type": "code",
   "execution_count": 53,
   "metadata": {},
   "outputs": [],
   "source": [
    "europeanPut = BondOption(bond, expiry_date, strike_price, OptionTypes.EUROPEAN_PUT)\n",
    "americanPut = BondOption(bond, expiry_date, strike_price, OptionTypes.AMERICAN_PUT)"
   ]
  },
  {
   "cell_type": "markdown",
   "metadata": {},
   "source": [
    "Consider the forward bond price."
   ]
  },
  {
   "cell_type": "code",
   "execution_count": 56,
   "metadata": {},
   "outputs": [
    {
     "name": "stdout",
     "output_type": "stream",
     "text": [
      "Fixed Income Clean Price:   100.000\n",
      "Fixed Income Dirty Price:   100.000\n"
     ]
    }
   ],
   "source": [
    "cp = bond.clean_price_from_discount_curve(expiry_date, discount_curve)\n",
    "dp = bond.dirty_price_from_discount_curve(expiry_date, discount_curve)\n",
    "print(\"Fixed Income Clean Price: %9.3f\"% cp)\n",
    "print(\"Fixed Income Dirty Price: %9.3f\"% dp)"
   ]
  },
  {
   "cell_type": "code",
   "execution_count": 57,
   "metadata": {},
   "outputs": [],
   "source": [
    "df = discount_curve.df(expiry_date)\n",
    "callIntrinsic = max(cp - strike_price, 0) * df\n",
    "putIntrinsic = max(strike_price - cp, 0) * df"
   ]
  },
  {
   "cell_type": "code",
   "execution_count": 58,
   "metadata": {},
   "outputs": [
    {
     "data": {
      "text/plain": [
       "4.319187992657368"
      ]
     },
     "execution_count": 58,
     "metadata": {},
     "output_type": "execute_result"
    }
   ],
   "source": [
    "callIntrinsic"
   ]
  },
  {
   "cell_type": "code",
   "execution_count": 59,
   "metadata": {},
   "outputs": [
    {
     "data": {
      "text/plain": [
       "0.0"
      ]
     },
     "execution_count": 59,
     "metadata": {},
     "output_type": "execute_result"
    }
   ],
   "source": [
    "putIntrinsic"
   ]
  },
  {
   "cell_type": "markdown",
   "metadata": {},
   "source": [
    "## Tree Models"
   ]
  },
  {
   "cell_type": "markdown",
   "metadata": {},
   "source": [
    "Set the model parameters, start with zero vol."
   ]
  },
  {
   "cell_type": "code",
   "execution_count": 60,
   "metadata": {},
   "outputs": [],
   "source": [
    "num_steps = 200"
   ]
  },
  {
   "cell_type": "code",
   "execution_count": 61,
   "metadata": {},
   "outputs": [],
   "source": [
    "sigma = 0.00001\n",
    "a = 0.1\n",
    "modelHW = HWTree(sigma*rate, a, num_steps)\n",
    "modelBK = BKTree(sigma, a, num_steps)\n",
    "modelBDT = BDTTree(sigma, num_steps)"
   ]
  },
  {
   "cell_type": "markdown",
   "metadata": {},
   "source": [
    "Check some limits - the call option should be worth the intrinsic."
   ]
  },
  {
   "cell_type": "code",
   "execution_count": 62,
   "metadata": {},
   "outputs": [
    {
     "name": "stdout",
     "output_type": "stream",
     "text": [
      "European Call Value:   4.30649\n",
      "American Call Value:   4.96842\n"
     ]
    }
   ],
   "source": [
    "ec = europeanCallBondOption.value(settle_date, discount_curve, modelHW)\n",
    "ac = americanCallBondOption.value(settle_date, discount_curve, modelHW)\n",
    "print(\"European Call Value: %9.5f\" % ec)\n",
    "print(\"American Call Value: %9.5f\" % ac)"
   ]
  },
  {
   "cell_type": "markdown",
   "metadata": {},
   "source": [
    "The put option too."
   ]
  },
  {
   "cell_type": "code",
   "execution_count": 63,
   "metadata": {},
   "outputs": [
    {
     "name": "stdout",
     "output_type": "stream",
     "text": [
      "European Put Value:   0.00000\n",
      "American Put Value:   0.00000\n"
     ]
    }
   ],
   "source": [
    "ep = europeanPutBondOption.value(settle_date, discount_curve, modelHW)\n",
    "ap = americanPutBondOption.value(settle_date, discount_curve, modelHW)\n",
    "print(\"European Put Value: %9.5f\" % ep)\n",
    "print(\"American Put Value: %9.5f\" % ap)"
   ]
  },
  {
   "cell_type": "markdown",
   "metadata": {},
   "source": [
    "Now we turn on the volatility."
   ]
  },
  {
   "cell_type": "code",
   "execution_count": 64,
   "metadata": {},
   "outputs": [],
   "source": [
    "sigma = 0.20\n",
    "a = 0.1\n",
    "modelHW = HWTree(sigma*rate, a, num_steps)\n",
    "modelBK = BKTree(sigma, a, num_steps)\n",
    "modelBDT = BDTTree(sigma, num_steps)"
   ]
  },
  {
   "cell_type": "code",
   "execution_count": 65,
   "metadata": {},
   "outputs": [
    {
     "name": "stdout",
     "output_type": "stream",
     "text": [
      "European Call Value:   4.30650\n",
      "American Call Value:   5.26581\n"
     ]
    }
   ],
   "source": [
    "ec = europeanCallBondOption.value(settle_date, discount_curve, modelHW)\n",
    "ac = americanCallBondOption.value(settle_date, discount_curve, modelHW)\n",
    "print(\"European Call Value: %9.5f\" % ec)\n",
    "print(\"American Call Value: %9.5f\" % ac)"
   ]
  },
  {
   "cell_type": "code",
   "execution_count": 66,
   "metadata": {},
   "outputs": [
    {
     "name": "stdout",
     "output_type": "stream",
     "text": [
      "European Put Value:   0.00000\n",
      "American Put Value:   0.00454\n"
     ]
    }
   ],
   "source": [
    "ep = europeanPutBondOption.value(settle_date, discount_curve, modelHW)\n",
    "ap = americanPutBondOption.value(settle_date, discount_curve, modelHW)\n",
    "print(\"European Put Value: %9.5f\" % ep)\n",
    "print(\"American Put Value: %9.5f\" % ap)"
   ]
  },
  {
   "cell_type": "markdown",
   "metadata": {},
   "source": [
    "Copyright (c) Dominic O'Kane 2020"
   ]
  }
 ],
 "metadata": {
  "kernelspec": {
   "display_name": "Python 3 (ipykernel)",
   "language": "python",
   "name": "python3"
  },
  "language_info": {
   "codemirror_mode": {
    "name": "ipython",
    "version": 3
   },
   "file_extension": ".py",
   "mimetype": "text/x-python",
   "name": "python",
   "nbconvert_exporter": "python",
   "pygments_lexer": "ipython3",
   "version": "3.10.13"
  }
 },
 "nbformat": 4,
 "nbformat_minor": 2
}
