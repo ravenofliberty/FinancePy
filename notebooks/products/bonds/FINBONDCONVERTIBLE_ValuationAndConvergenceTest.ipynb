{
 "cells": [
  {
   "cell_type": "markdown",
   "metadata": {},
   "source": [
    "# Convertible Bond Valuation - Convergence Analysis"
   ]
  },
  {
   "cell_type": "markdown",
   "metadata": {},
   "source": [
    "Value a Convertible Bond using a Tree-Based model that incorporates the conversion option as well as the call and puts."
   ]
  },
  {
   "cell_type": "code",
   "execution_count": 1,
   "metadata": {},
   "outputs": [],
   "source": [
    "import numpy as np\n",
    "import matplotlib.pyplot as plt"
   ]
  },
  {
   "cell_type": "code",
   "execution_count": 2,
   "metadata": {},
   "outputs": [
    {
     "name": "stdout",
     "output_type": "stream",
     "text": [
      "####################################################################\n",
      "# FINANCEPY BETA Version 0.33 - This build:  11 Nov 2023 at 07:47 #\n",
      "#     This software is distributed FREE AND WITHOUT ANY WARRANTY   #\n",
      "#  Report bugs as issues at https://github.com/domokane/FinancePy  #\n",
      "####################################################################\n",
      "\n"
     ]
    }
   ],
   "source": [
    "from financepy.utils import *\n",
    "from financepy.products.bonds import *\n",
    "from financepy.market.curves import *"
   ]
  },
  {
   "cell_type": "markdown",
   "metadata": {},
   "source": [
    "## Creating the Convertible Bond"
   ]
  },
  {
   "cell_type": "markdown",
   "metadata": {},
   "source": [
    "We set the maturity date, annualised coupon, coupon annual_frequency and convention for calculating accrued interest"
   ]
  },
  {
   "cell_type": "code",
   "execution_count": 3,
   "metadata": {},
   "outputs": [],
   "source": [
    "maturity_date = Date(20, 3, 2023)\n",
    "coupon = 0.0\n",
    "freq_type = FrequencyTypes.SEMI_ANNUAL\n",
    "accrualBasis = DayCountTypes.ACT_365F"
   ]
  },
  {
   "cell_type": "markdown",
   "metadata": {},
   "source": [
    "We need to set the face amount and the conversion ratio. This is the number of shares you can convert to for that face amount."
   ]
  },
  {
   "cell_type": "code",
   "execution_count": 4,
   "metadata": {},
   "outputs": [],
   "source": [
    "face = 100.0 \n",
    "conversion_ratio = 5.0  # Number of shares for face amount"
   ]
  },
  {
   "cell_type": "markdown",
   "metadata": {},
   "source": [
    "We can also delay the start of the conversion feature using the start convert date"
   ]
  },
  {
   "cell_type": "code",
   "execution_count": 5,
   "metadata": {},
   "outputs": [],
   "source": [
    "start_convert_date = Date(20, 12, 2019)"
   ]
  },
  {
   "cell_type": "markdown",
   "metadata": {},
   "source": [
    "We can also set the call schedule - the price and date on which the issuer can call back the bond. This is given with reference to a price of 100. Making the call price very high means it will never be called. So the call has no impact."
   ]
  },
  {
   "cell_type": "code",
   "execution_count": 6,
   "metadata": {},
   "outputs": [],
   "source": [
    "call_price = 120 # Make call uneconomic so it does not impact pricing\n",
    "call_dates = [Date(20, 3, 2020), Date(20, 3, 2021), Date(20, 3, 2022)]\n",
    "call_prices = [call_price, call_price, call_price]"
   ]
  },
  {
   "cell_type": "markdown",
   "metadata": {},
   "source": [
    "We can also set the put schedule - the price and date on which the owner can put back the bond to the issuer. This is given with reference to a price of 100. Making the put price very low means it will never be put."
   ]
  },
  {
   "cell_type": "code",
   "execution_count": 7,
   "metadata": {},
   "outputs": [],
   "source": [
    "putPrice = 0.0 # Make call uneconomic so it does not impact pricing\n",
    "put_dates = [Date(20, 3, 2020), Date(20, 3, 2021), Date(20, 3, 2022)]\n",
    "put_prices = [putPrice, putPrice, putPrice]"
   ]
  },
  {
   "cell_type": "markdown",
   "metadata": {},
   "source": [
    "At this point we can create our bond."
   ]
  },
  {
   "cell_type": "code",
   "execution_count": 9,
   "metadata": {},
   "outputs": [],
   "source": [
    "bond = BondConvertible(maturity_date, coupon, freq_type, start_convert_date, conversion_ratio, call_dates, call_prices, put_dates, put_prices, accrualBasis)"
   ]
  },
  {
   "cell_type": "markdown",
   "metadata": {},
   "source": [
    "# Valuation"
   ]
  },
  {
   "cell_type": "markdown",
   "metadata": {},
   "source": [
    "### No Calls and Puts"
   ]
  },
  {
   "cell_type": "markdown",
   "metadata": {},
   "source": [
    "We need to specify the valuation date"
   ]
  },
  {
   "cell_type": "code",
   "execution_count": 10,
   "metadata": {},
   "outputs": [],
   "source": [
    "settle_date = Date(31, 12, 2019)"
   ]
  },
  {
   "cell_type": "markdown",
   "metadata": {},
   "source": [
    "The model allows a discrete dividend schedule. We can use the FinSchedule class to do this."
   ]
  },
  {
   "cell_type": "code",
   "execution_count": 11,
   "metadata": {},
   "outputs": [],
   "source": [
    "dividendSchedule = Schedule(settle_date, maturity_date).schedule_dates()[1:]\n",
    "dividend_yields = [0.01] * len(dividendSchedule)"
   ]
  },
  {
   "cell_type": "markdown",
   "metadata": {},
   "source": [
    "We then need to set up the market inputs. "
   ]
  },
  {
   "cell_type": "code",
   "execution_count": 12,
   "metadata": {},
   "outputs": [],
   "source": [
    "stock_price = 20\n",
    "stock_volatility = 0.30 # 30 percent\n",
    "rate = 0.05\n",
    "discount_curve = DiscountCurveFlat(settle_date, rate, FrequencyTypes.ANNUAL)\n",
    "credit_spread = 0.00\n",
    "recovery_rate = 0.40 # 40 percent"
   ]
  },
  {
   "cell_type": "markdown",
   "metadata": {},
   "source": [
    "The model is a binomial tree but you don't need to enter any tree details unless you want to as it defaults to 100 steps per year"
   ]
  },
  {
   "cell_type": "markdown",
   "metadata": {},
   "source": [
    "We can now peform the valuation"
   ]
  },
  {
   "cell_type": "code",
   "execution_count": 13,
   "metadata": {},
   "outputs": [
    {
     "data": {
      "text/plain": [
       "{'cbprice': 109.73448110070586,\n",
       " 'bond': 85.46491653997575,\n",
       " 'delta': 2.9878835339742738,\n",
       " 'gamma': 1.001353265428514,\n",
       " 'theta': 109.31345846037485}"
      ]
     },
     "execution_count": 13,
     "metadata": {},
     "output_type": "execute_result"
    }
   ],
   "source": [
    "bond.value(settle_date, stock_price, stock_volatility, dividendSchedule, dividend_yields,\n",
    "           discount_curve, credit_spread, recovery_rate)"
   ]
  },
  {
   "cell_type": "markdown",
   "metadata": {},
   "source": [
    "'cbrice' is the bond price. 'bond' is the price of the bond alone without any conversion and without any puts or calls option"
   ]
  },
  {
   "cell_type": "markdown",
   "metadata": {},
   "source": [
    "## Impact of Calls"
   ]
  },
  {
   "cell_type": "code",
   "execution_count": 14,
   "metadata": {},
   "outputs": [],
   "source": [
    "call_price = 100000.0\n",
    "call_prices = [call_price, call_price, call_price]"
   ]
  },
  {
   "cell_type": "markdown",
   "metadata": {},
   "source": [
    "Need to recreate the convertible bond."
   ]
  },
  {
   "cell_type": "code",
   "execution_count": 16,
   "metadata": {},
   "outputs": [],
   "source": [
    "bond = BondConvertible(maturity_date, coupon, freq_type, start_convert_date, conversion_ratio, call_dates, call_prices, put_dates, put_prices, accrualBasis)"
   ]
  },
  {
   "cell_type": "code",
   "execution_count": 17,
   "metadata": {},
   "outputs": [
    {
     "data": {
      "text/plain": [
       "{'cbprice': 111.4282617425936,\n",
       " 'bond': 85.46491653997575,\n",
       " 'delta': 3.4297479279504275,\n",
       " 'gamma': 0.817378351037334,\n",
       " 'theta': 125.92922284966545}"
      ]
     },
     "execution_count": 17,
     "metadata": {},
     "output_type": "execute_result"
    }
   ],
   "source": [
    "bond.value(settle_date, stock_price, stock_volatility, dividendSchedule, dividend_yields,\n",
    "           discount_curve, credit_spread, recovery_rate)"
   ]
  },
  {
   "cell_type": "markdown",
   "metadata": {},
   "source": [
    "## Stock Price Sensitivity"
   ]
  },
  {
   "cell_type": "markdown",
   "metadata": {},
   "source": [
    "As the stock price goes up, the conversion options becomes more valuable"
   ]
  },
  {
   "cell_type": "code",
   "execution_count": 18,
   "metadata": {},
   "outputs": [
    {
     "name": "stdout",
     "output_type": "stream",
     "text": [
      "  StockPx     CB Price   Bond Price        Delta\n",
      "     0.00      85.4649      85.4649       0.0000\n",
      "     4.00      85.4819      85.4649       0.0282\n",
      "     8.00      86.4021      85.4649       0.5501\n",
      "    12.00      90.6543      85.4649       1.5947\n",
      "    16.00      99.1995      85.4649       2.6294\n",
      "    20.00     111.4283      85.4649       3.4297\n",
      "    24.00     126.3526      85.4649       3.9905\n",
      "    28.00     143.1370      85.4649       4.3776\n",
      "    32.00     161.2960      85.4649       4.6745\n",
      "    36.00     180.4177      85.4649       4.8710\n",
      "    40.00     200.0973      85.4649       4.9645\n"
     ]
    }
   ],
   "source": [
    "stock_prices = np.linspace(0,40,11)\n",
    "print(\"%9s %12s %12s %12s\"% (\"StockPx\", \"CB Price\", \"Bond Price\", \"Delta\"))\n",
    "\n",
    "for stock_price in stock_prices:\n",
    "    res = bond.value(settle_date, stock_price, stock_volatility, dividendSchedule, dividend_yields,\n",
    "                     discount_curve, credit_spread, recovery_rate)\n",
    "    print(\"%9.2f %12.4f %12.4f %12.4f\"% (stock_price, res['cbprice'], res['bond'], res['delta']))"
   ]
  },
  {
   "cell_type": "markdown",
   "metadata": {},
   "source": [
    "As expected the price rises with increasing stock price as the conversion option is more valuable"
   ]
  },
  {
   "cell_type": "markdown",
   "metadata": {},
   "source": [
    "## Convergence Testing"
   ]
  },
  {
   "cell_type": "markdown",
   "metadata": {},
   "source": [
    "Set up the bond description"
   ]
  },
  {
   "cell_type": "code",
   "execution_count": 19,
   "metadata": {},
   "outputs": [],
   "source": [
    "settle_date = Date(31, 12, 2019)"
   ]
  },
  {
   "cell_type": "code",
   "execution_count": 20,
   "metadata": {},
   "outputs": [],
   "source": [
    "maturity_date = Date(20, 3, 2023)\n",
    "coupon = 0.0\n",
    "freq_type = FrequencyTypes.SEMI_ANNUAL\n",
    "accrualBasis = DayCountTypes.ACT_365F\n",
    "\n",
    "call_price = 100000.0 # Make call uneconomic so it does not impact pricing\n",
    "call_dates = [] # [Date(20, 3, 2020)]\n",
    "call_prices = [] # [call_price]\n",
    "\n",
    "putPrice = 0.0 # Make call uneconomic so it does not impact pricing\n",
    "put_dates = [] # Date(20, 3, 2020)]\n",
    "put_prices = [] # [putPrice]\n",
    "\n",
    "face = 100.0 \n",
    "start_convert_date = settle_date\n",
    "conversion_ratio = 5.0  # Number of shares for face amount"
   ]
  },
  {
   "cell_type": "code",
   "execution_count": 22,
   "metadata": {},
   "outputs": [],
   "source": [
    "bond = BondConvertible(maturity_date, coupon, freq_type, start_convert_date, conversion_ratio, call_dates, call_prices, put_dates, put_prices, accrualBasis)"
   ]
  },
  {
   "cell_type": "markdown",
   "metadata": {},
   "source": [
    "Set up market"
   ]
  },
  {
   "cell_type": "code",
   "execution_count": 23,
   "metadata": {},
   "outputs": [],
   "source": [
    "stock_price = 20.0\n",
    "stock_volatility = 0.10\n",
    "rate = 0.05\n",
    "discount_curve = DiscountCurveFlat(settle_date, rate, FrequencyTypes.ANNUAL)\n",
    "credit_spread = 0.0\n",
    "recovery_rate = 0.0\n",
    "dividendSchedule = [] # FinSchedule(settle_date, maturity_date).flows()[1:]\n",
    "dividend_yields = [] # [0.0] * len(dividendSchedule)"
   ]
  },
  {
   "cell_type": "markdown",
   "metadata": {},
   "source": [
    "How many tree steps per year do we need to give an accurate price ? Let us check."
   ]
  },
  {
   "cell_type": "code",
   "execution_count": 24,
   "metadata": {},
   "outputs": [
    {
     "name": "stdout",
     "output_type": "stream",
     "text": [
      " Steps/Yr     CB Price   Bond Price        Delta        Gamma\n",
      "   100.00     132.7113      85.4649       4.1755       0.3364\n",
      "   200.00     132.7074      85.4649       4.1761       0.5085\n",
      "   400.00     132.7077      85.4649       4.1764       0.7534\n",
      "  1000.00     132.7047      85.4649       4.1766       1.2406\n",
      "  2000.00     132.7051      85.4649       4.1766       1.7907\n",
      "  4000.00     132.7045      85.4649       4.1767       2.5689\n"
     ]
    }
   ],
   "source": [
    "stock_price = 25.0\n",
    "stock_volatility = 0.30\n",
    "stepsPerYearList = [100, 200, 400, 1000, 2000, 4000]\n",
    "cbPrices = []\n",
    "\n",
    "print(\"%9s %12s %12s %12s %12s\"% (\"Steps/Yr\", \"CB Price\", \"Bond Price\", \"Delta\",\"Gamma\"))\n",
    "for num_steps_per_year in stepsPerYearList:\n",
    "    res = bond.value(settle_date, stock_price, stock_volatility, dividendSchedule, dividend_yields,\n",
    "                     discount_curve, credit_spread, recovery_rate, num_steps_per_year)\n",
    "    print(\"%9.2f %12.4f %12.4f %12.4f %12.4f\"% (num_steps_per_year, res['cbprice'], res['bond'], res['delta'], res['gamma']))\n",
    "    cbPrices.append(res['cbprice'])"
   ]
  },
  {
   "cell_type": "code",
   "execution_count": 25,
   "metadata": {},
   "outputs": [
    {
     "data": {
      "image/png": "[encoded data removed]",
      "text/plain": [
       "<Figure size 640x480 with 1 Axes>"
      ]
     },
     "metadata": {},
     "output_type": "display_data"
    }
   ],
   "source": [
    "plt.plot(stepsPerYearList,cbPrices);"
   ]
  },
  {
   "cell_type": "markdown",
   "metadata": {},
   "source": [
    "Copyright (c) 2020 Dominic O'Kane"
   ]
  }
 ],
 "metadata": {
  "kernelspec": {
   "display_name": "Python 3",
   "language": "python",
   "name": "python3"
  },
  "language_info": {
   "codemirror_mode": {
    "name": "ipython",
    "version": 3
   },
   "file_extension": ".py",
   "mimetype": "text/x-python",
   "name": "python",
   "nbconvert_exporter": "python",
   "pygments_lexer": "ipython3",
   "version": "3.10.13"
  }
 },
 "nbformat": 4,
 "nbformat_minor": 2
}
