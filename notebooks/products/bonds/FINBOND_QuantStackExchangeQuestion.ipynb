{
 "cells": [
  {
   "cell_type": "markdown",
   "metadata": {},
   "source": [
    "# FIXED COUPON BOND EXAMPLE TREASURY"
   ]
  },
  {
   "cell_type": "markdown",
   "metadata": {},
   "source": [
    "Question on StackExchange - THIS HAS NOT BEEN REPLICATED AS EXAMPLE LOOKS WRONG"
   ]
  },
  {
   "cell_type": "markdown",
   "metadata": {},
   "source": [
    "https://quant.stackexchange.com/questions/66508/schedule-yield-to-maturity-and-npv-of-fixed-rate-bond-from-quantlib-python"
   ]
  },
  {
   "cell_type": "code",
   "execution_count": 6,
   "metadata": {},
   "outputs": [],
   "source": [
    "import numpy as np\n",
    "import matplotlib.pyplot as plt"
   ]
  },
  {
   "cell_type": "code",
   "execution_count": 7,
   "metadata": {},
   "outputs": [],
   "source": [
    "from financepy.utils import *\n",
    "from financepy.products.bonds.bond import *\n",
    "from financepy.market.curves import *"
   ]
  },
  {
   "cell_type": "markdown",
   "metadata": {},
   "source": [
    "# Define the Bond"
   ]
  },
  {
   "cell_type": "code",
   "execution_count": 8,
   "metadata": {},
   "outputs": [],
   "source": [
    "issue_date = Date(28, 9, 2019)\n",
    "maturity_date = Date(28, 9, 2024)\n",
    "coupon = 0.05\n",
    "freq_type = FrequencyTypes.SEMI_ANNUAL\n",
    "day_count_type = DayCountTypes.ACT_360\n",
    "face = 100.0"
   ]
  },
  {
   "cell_type": "code",
   "execution_count": 9,
   "metadata": {},
   "outputs": [],
   "source": [
    "bond = Bond(issue_date, maturity_date, coupon, freq_type, day_count_type)"
   ]
  },
  {
   "cell_type": "markdown",
   "metadata": {},
   "source": [
    "You can get information about the bond using the print method."
   ]
  },
  {
   "cell_type": "code",
   "execution_count": 10,
   "metadata": {},
   "outputs": [
    {
     "name": "stdout",
     "output_type": "stream",
     "text": [
      "OBJECT TYPE: Bond\n",
      "ISSUE DATE: 28-SEP-2019\n",
      "MATURITY DATE: 28-SEP-2024\n",
      "COUPON (%): 5.0\n",
      "FREQUENCY: FrequencyTypes.SEMI_ANNUAL\n",
      "DAY COUNT TYPE: DayCountTypes.ACT_360\n",
      "EX_DIV DAYS: 0\n"
     ]
    }
   ],
   "source": [
    "print(bond)"
   ]
  },
  {
   "cell_type": "markdown",
   "metadata": {},
   "source": [
    "## Bond Cash Flows"
   ]
  },
  {
   "cell_type": "markdown",
   "metadata": {},
   "source": [
    "We first need to set the settlement date of the bond. "
   ]
  },
  {
   "cell_type": "code",
   "execution_count": 11,
   "metadata": {},
   "outputs": [
    {
     "name": "stdout",
     "output_type": "stream",
     "text": [
      "20-AUG-2020\n"
     ]
    }
   ],
   "source": [
    "value_date = Date(31, 7, 2020)\n",
    "settle_date = value_date.add_days(20)\n",
    "print(settle_date)"
   ]
  },
  {
   "cell_type": "code",
   "execution_count": 12,
   "metadata": {},
   "outputs": [
    {
     "name": "stdout",
     "output_type": "stream",
     "text": [
      " 28-SEP-2020      2.50000 \n",
      " 28-MAR-2021      2.50000 \n",
      " 28-SEP-2021      2.50000 \n",
      " 28-MAR-2022      2.50000 \n",
      " 28-SEP-2022      2.50000 \n",
      " 28-MAR-2023      2.50000 \n",
      " 28-SEP-2023      2.50000 \n",
      " 28-MAR-2024      2.50000 \n",
      " 28-SEP-2024    102.50000 \n",
      "\n"
     ]
    }
   ],
   "source": [
    "print(bond.bond_payments(settle_date, 100))"
   ]
  },
  {
   "cell_type": "markdown",
   "metadata": {},
   "source": [
    "The convention is to use these dates for yield calculations even if some fall on weekends."
   ]
  },
  {
   "cell_type": "code",
   "execution_count": 13,
   "metadata": {},
   "outputs": [],
   "source": [
    "spot_dates = [Date(31, 7, 2020), Date(1, 1, 2027)]\n",
    "spot_rates = [0.01, 0.02]"
   ]
  },
  {
   "cell_type": "code",
   "execution_count": 14,
   "metadata": {},
   "outputs": [],
   "source": [
    "zero_curve = DiscountCurveZeros(value_date, \n",
    "                                spot_dates, \n",
    "                                spot_rates, \n",
    "                                freq_type, \n",
    "                                day_count_type, \n",
    "                                InterpTypes.LINEAR_ZERO_RATES)"
   ]
  },
  {
   "cell_type": "markdown",
   "metadata": {},
   "source": [
    "Dirty price is the clean price plus accrued interest"
   ]
  },
  {
   "cell_type": "code",
   "execution_count": 15,
   "metadata": {},
   "outputs": [
    {
     "name": "stdout",
     "output_type": "stream",
     "text": [
      "Dirty Price =  113.7370016\n"
     ]
    }
   ],
   "source": [
    "print(\"Dirty Price = %12.7f\" \n",
    "      % bond.dirty_price_from_discount_curve(settle_date, zero_curve))"
   ]
  },
  {
   "cell_type": "code",
   "execution_count": 16,
   "metadata": {},
   "outputs": [
    {
     "name": "stdout",
     "output_type": "stream",
     "text": [
      "Clean Price =  111.7231127\n"
     ]
    }
   ],
   "source": [
    "print(\"Clean Price = %12.7f\" \n",
    "      % bond.clean_price_from_discount_curve(settle_date, zero_curve))"
   ]
  },
  {
   "cell_type": "markdown",
   "metadata": {},
   "source": [
    "Accrued interest is accrued from previous coupon date to settlement date"
   ]
  },
  {
   "cell_type": "code",
   "execution_count": 17,
   "metadata": {},
   "outputs": [
    {
     "name": "stdout",
     "output_type": "stream",
     "text": [
      "Previous coupon date is  28-MAR-2020\n"
     ]
    }
   ],
   "source": [
    "print(\"Previous coupon date is \", bond._pcd)"
   ]
  },
  {
   "cell_type": "code",
   "execution_count": 18,
   "metadata": {},
   "outputs": [
    {
     "name": "stdout",
     "output_type": "stream",
     "text": [
      "Settlement date is  20-AUG-2020\n"
     ]
    }
   ],
   "source": [
    "print(\"Settlement date is \", settle_date)"
   ]
  },
  {
   "cell_type": "markdown",
   "metadata": {},
   "source": [
    "The amount of accrued interest is "
   ]
  },
  {
   "cell_type": "code",
   "execution_count": 19,
   "metadata": {},
   "outputs": [
    {
     "name": "stdout",
     "output_type": "stream",
     "text": [
      "Accrued =         2.01\n"
     ]
    }
   ],
   "source": [
    "print(\"Accrued = %12.2f\" % bond._accrued_interest)"
   ]
  },
  {
   "cell_type": "markdown",
   "metadata": {},
   "source": [
    "This is based on the following number of days of accrual"
   ]
  },
  {
   "cell_type": "code",
   "execution_count": 20,
   "metadata": {},
   "outputs": [
    {
     "name": "stdout",
     "output_type": "stream",
     "text": [
      "Accrued Days = 145\n"
     ]
    }
   ],
   "source": [
    "print(\"Accrued Days = %d\" % bond._accrued_days)"
   ]
  },
  {
   "cell_type": "markdown",
   "metadata": {},
   "source": [
    "Copyright (c) 2020 Dominic O'Kane"
   ]
  }
 ],
 "metadata": {
  "interpreter": {
   "hash": "3c3c8dc9fd3bee1ab6ae956667954d61cc562603f3dc9655506a7eb1e203dbb6"
  },
  "kernelspec": {
   "display_name": "Python 3 (ipykernel)",
   "language": "python",
   "name": "python3"
  },
  "language_info": {
   "codemirror_mode": {
    "name": "ipython",
    "version": 3
   },
   "file_extension": ".py",
   "mimetype": "text/x-python",
   "name": "python",
   "nbconvert_exporter": "python",
   "pygments_lexer": "ipython3",
   "version": "3.10.13"
  }
 },
 "nbformat": 4,
 "nbformat_minor": 2
}
