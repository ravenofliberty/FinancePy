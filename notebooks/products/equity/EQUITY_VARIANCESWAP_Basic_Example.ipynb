{
 "cells": [
  {
   "cell_type": "markdown",
   "metadata": {},
   "source": [
    "# EQUITY VARIANCE SWAP - VALUATION AND RISK ANALYSIS"
   ]
  },
  {
   "cell_type": "markdown",
   "metadata": {},
   "source": [
    "Valuation and Risk of a Variance Swap."
   ]
  },
  {
   "cell_type": "code",
   "execution_count": 17,
   "metadata": {},
   "outputs": [],
   "source": [
    "import numpy as np\n",
    "import matplotlib.pyplot as plt"
   ]
  },
  {
   "cell_type": "code",
   "execution_count": 18,
   "metadata": {},
   "outputs": [],
   "source": [
    "from financepy.utils import *\n",
    "from financepy.market.curves import *\n",
    "from financepy.products.equity import *\n",
    "from financepy.market.volatility import *"
   ]
  },
  {
   "cell_type": "markdown",
   "metadata": {},
   "source": [
    "# Variance Swap"
   ]
  },
  {
   "cell_type": "markdown",
   "metadata": {},
   "source": [
    "All the assets in the basket have the same characteristicsm"
   ]
  },
  {
   "cell_type": "code",
   "execution_count": 19,
   "metadata": {},
   "outputs": [],
   "source": [
    "start_date = Date(20, 3, 2018)\n",
    "tenor = \"3M\"\n",
    "strike = 0.3*0.3"
   ]
  },
  {
   "cell_type": "code",
   "execution_count": 20,
   "metadata": {},
   "outputs": [
    {
     "name": "stdout",
     "output_type": "stream",
     "text": [
      "Strike Variance: 0.09\n"
     ]
    }
   ],
   "source": [
    "print(\"Strike Variance:\", strike)"
   ]
  },
  {
   "cell_type": "markdown",
   "metadata": {},
   "source": [
    "The strike of the variance swap is at 9%"
   ]
  },
  {
   "cell_type": "code",
   "execution_count": 21,
   "metadata": {},
   "outputs": [],
   "source": [
    "volSwap = EquityVarianceSwap(start_date, tenor, strike)"
   ]
  },
  {
   "cell_type": "markdown",
   "metadata": {},
   "source": [
    "## Valuation"
   ]
  },
  {
   "cell_type": "code",
   "execution_count": 22,
   "metadata": {},
   "outputs": [],
   "source": [
    "value_date = Date(20, 3, 2018)"
   ]
  },
  {
   "cell_type": "code",
   "execution_count": 23,
   "metadata": {},
   "outputs": [],
   "source": [
    "r = 0.05\n",
    "discount_curve = DiscountCurveFlat(value_date, r)"
   ]
  },
  {
   "cell_type": "code",
   "execution_count": 24,
   "metadata": {},
   "outputs": [],
   "source": [
    "stock_price = 100.0\n",
    "dividend_yield = 0.0\n",
    "maturity_date = start_date.add_months(3)"
   ]
  },
  {
   "cell_type": "code",
   "execution_count": 25,
   "metadata": {},
   "outputs": [],
   "source": [
    "def volSkew(K, atm_vol, atmK, skew):\n",
    "    v = atm_vol + skew * (K-atmK)\n",
    "    return v"
   ]
  },
  {
   "cell_type": "markdown",
   "metadata": {},
   "source": [
    "We now define the volatility curve"
   ]
  },
  {
   "cell_type": "code",
   "execution_count": 26,
   "metadata": {},
   "outputs": [],
   "source": [
    "atm_vol = 0.20\n",
    "atmK = 100.0\n",
    "skew = 0\n",
    "strikes = np.linspace(50.0, 135.0, 18)\n",
    "vols = volSkew(strikes, atm_vol, atmK, skew)\n",
    "volCurve = EquityVolCurve(value_date, maturity_date, strikes, vols)"
   ]
  },
  {
   "cell_type": "code",
   "execution_count": 27,
   "metadata": {},
   "outputs": [
    {
     "data": {
      "text/plain": [
       "Text(0, 0.5, 'Volatility')"
      ]
     },
     "execution_count": 27,
     "metadata": {},
     "output_type": "execute_result"
    },
    {
     "data": {
      "image/png": "[encoded data removed]",
      "text/plain": [
       "<Figure size 640x480 with 1 Axes>"
      ]
     },
     "metadata": {},
     "output_type": "display_data"
    }
   ],
   "source": [
    "plt.plot(strikes, vols)\n",
    "plt.xlabel(\"Strike\")\n",
    "plt.ylabel(\"Volatility\")"
   ]
  },
  {
   "cell_type": "code",
   "execution_count": 28,
   "metadata": {},
   "outputs": [],
   "source": [
    "strike_spacing = 5.0\n",
    "num_call_options = 10\n",
    "num_put_options = 10"
   ]
  },
  {
   "cell_type": "code",
   "execution_count": 29,
   "metadata": {},
   "outputs": [],
   "source": [
    "dividend_curve = DiscountCurveFlat(value_date, dividend_yield)"
   ]
  },
  {
   "cell_type": "code",
   "execution_count": 30,
   "metadata": {},
   "outputs": [
    {
     "name": "stdout",
     "output_type": "stream",
     "text": [
      "Fair strike: 0.041661964166824654\n"
     ]
    }
   ],
   "source": [
    "k1 = volSwap.fair_strike(value_date, stock_price, dividend_curve,\n",
    "                        volCurve, num_call_options, num_put_options,\n",
    "                        strike_spacing, discount_curve, False)\n",
    "print(\"Fair strike:\", k1)"
   ]
  },
  {
   "cell_type": "code",
   "execution_count": 31,
   "metadata": {},
   "outputs": [
    {
     "name": "stdout",
     "output_type": "stream",
     "text": [
      "DERMAN SKEW APPROX for K: 0.04000000000000001\n"
     ]
    }
   ],
   "source": [
    "k2 = volSwap.fair_strike_approx(value_date, stock_price, strikes, vols)\n",
    "print(\"DERMAN SKEW APPROX for K:\", k2)"
   ]
  },
  {
   "cell_type": "code",
   "execution_count": 32,
   "metadata": {},
   "outputs": [
    {
     "name": "stdout",
     "output_type": "stream",
     "text": [
      "TYPE STRIKE WEIGHT\n",
      "PUT   55.00  13169.839\n",
      "PUT   60.00  11058.975\n",
      "PUT   65.00   9418.167\n",
      "PUT   70.00   8117.442\n",
      "PUT   75.00   7068.860\n",
      "PUT   80.00   6211.188\n",
      "PUT   85.00   5500.721\n",
      "PUT   90.00   4905.588\n",
      "PUT   95.00   4402.101\n",
      "PUT  100.00   2052.402\n",
      "CALL  100.00   1919.957\n",
      "CALL  105.00   3602.627\n",
      "CALL  110.00   3282.228\n",
      "CALL  115.00   3002.757\n",
      "CALL  120.00   2757.527\n",
      "CALL  125.00   2541.164\n",
      "CALL  130.00   2349.307\n",
      "CALL  135.00   2178.390\n",
      "CALL  140.00   2025.471\n",
      "CALL  145.00   1888.110\n"
     ]
    }
   ],
   "source": [
    "volSwap.print_weights()"
   ]
  },
  {
   "cell_type": "markdown",
   "metadata": {},
   "source": [
    "Copyright (c) 2020 Dominic O'Kane"
   ]
  }
 ],
 "metadata": {
  "kernelspec": {
   "display_name": "Python 3",
   "language": "python",
   "name": "python3"
  },
  "language_info": {
   "codemirror_mode": {
    "name": "ipython",
    "version": 3
   },
   "file_extension": ".py",
   "mimetype": "text/x-python",
   "name": "python",
   "nbconvert_exporter": "python",
   "pygments_lexer": "ipython3",
   "version": "3.10.13"
  }
 },
 "nbformat": 4,
 "nbformat_minor": 2
}
