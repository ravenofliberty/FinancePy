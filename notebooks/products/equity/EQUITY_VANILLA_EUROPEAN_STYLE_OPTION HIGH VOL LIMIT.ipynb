{
 "cells": [
  {
   "cell_type": "markdown",
   "metadata": {},
   "source": [
    "# EQUITY VANILLA EUROPEAN-STYLE OPTIONS"
   ]
  },
  {
   "cell_type": "markdown",
   "metadata": {},
   "source": [
    "Valuation and Risk of a simple Vanilla Equity Option"
   ]
  },
  {
   "cell_type": "code",
   "execution_count": 20,
   "metadata": {},
   "outputs": [],
   "source": [
    "import numpy as np\n",
    "import matplotlib.pyplot as plt"
   ]
  },
  {
   "cell_type": "code",
   "execution_count": 21,
   "metadata": {},
   "outputs": [],
   "source": [
    "from financepy.utils import *\n",
    "from financepy.products.equity import *"
   ]
  },
  {
   "cell_type": "markdown",
   "metadata": {},
   "source": [
    "# Define the Call and Put Options"
   ]
  },
  {
   "cell_type": "code",
   "execution_count": 22,
   "metadata": {},
   "outputs": [],
   "source": [
    "value_date = Date(1, 1, 2015)"
   ]
  },
  {
   "cell_type": "code",
   "execution_count": 23,
   "metadata": {},
   "outputs": [],
   "source": [
    "expiry_date = value_date.add_years(0.5)"
   ]
  },
  {
   "cell_type": "code",
   "execution_count": 24,
   "metadata": {},
   "outputs": [
    {
     "data": {
      "text/plain": [
       "01-JUL-2015"
      ]
     },
     "execution_count": 24,
     "metadata": {},
     "output_type": "execute_result"
    }
   ],
   "source": [
    "expiry_date"
   ]
  },
  {
   "cell_type": "code",
   "execution_count": 25,
   "metadata": {},
   "outputs": [],
   "source": [
    "strike_price = 50.0"
   ]
  },
  {
   "cell_type": "code",
   "execution_count": 26,
   "metadata": {},
   "outputs": [],
   "source": [
    "call_option = EquityVanillaOption(expiry_date, strike_price, OptionTypes.EUROPEAN_CALL)"
   ]
  },
  {
   "cell_type": "code",
   "execution_count": 27,
   "metadata": {},
   "outputs": [],
   "source": [
    "put_option = EquityVanillaOption(expiry_date, strike_price, OptionTypes.EUROPEAN_PUT)"
   ]
  },
  {
   "cell_type": "code",
   "execution_count": 28,
   "metadata": {},
   "outputs": [
    {
     "data": {
      "text/plain": [
       "45.241870901797974"
      ]
     },
     "execution_count": 28,
     "metadata": {},
     "output_type": "execute_result"
    }
   ],
   "source": [
    "50.0*exp(-0.20*0.5)"
   ]
  },
  {
   "cell_type": "code",
   "execution_count": 29,
   "metadata": {},
   "outputs": [],
   "source": [
    "stock_price = 50\n",
    "volatility = 0.20\n",
    "interest_rate = 0.05\n",
    "dividend_yield = 0.05"
   ]
  },
  {
   "cell_type": "code",
   "execution_count": 30,
   "metadata": {},
   "outputs": [],
   "source": [
    "discount_curve = DiscountCurveFlat(value_date, interest_rate, FrequencyTypes.CONTINUOUS)"
   ]
  },
  {
   "cell_type": "code",
   "execution_count": 31,
   "metadata": {},
   "outputs": [],
   "source": [
    "dividend_curve = DiscountCurveFlat(value_date, dividend_yield)"
   ]
  },
  {
   "cell_type": "code",
   "execution_count": 32,
   "metadata": {},
   "outputs": [],
   "source": [
    "volatility = np.linspace(0,100.0,100)"
   ]
  },
  {
   "cell_type": "code",
   "execution_count": 33,
   "metadata": {},
   "outputs": [],
   "source": [
    "model = BlackScholes(volatility)"
   ]
  },
  {
   "cell_type": "code",
   "execution_count": 34,
   "metadata": {},
   "outputs": [],
   "source": [
    "call_values = call_option.value(value_date, stock_price, discount_curve, dividend_curve, model)"
   ]
  },
  {
   "cell_type": "code",
   "execution_count": 35,
   "metadata": {},
   "outputs": [],
   "source": [
    "put_values = put_option.value(value_date, stock_price, discount_curve, dividend_curve, model)"
   ]
  },
  {
   "cell_type": "code",
   "execution_count": 36,
   "metadata": {},
   "outputs": [
    {
     "data": {
      "text/plain": [
       "array([5.12093137e-08, 1.35547241e+01, 2.55148007e+01, 3.48262511e+01,\n",
       "       4.12227438e+01, 4.50998211e+01, 4.71732950e+01, 4.81517017e+01,\n",
       "       4.85590493e+01, 4.87086854e+01, 4.87571846e+01, 4.87710540e+01,\n",
       "       4.87745536e+01, 4.87753327e+01, 4.87754857e+01, 4.87755123e+01,\n",
       "       4.87755163e+01, 4.87755169e+01, 4.87755169e+01, 4.87755169e+01,\n",
       "       4.87755169e+01, 4.87755169e+01, 4.87755169e+01, 4.87755169e+01,\n",
       "       4.87755169e+01, 4.87755169e+01, 4.87755169e+01, 4.87755169e+01,\n",
       "       4.87755169e+01, 4.87755169e+01, 4.87755169e+01, 4.87755169e+01,\n",
       "       4.87755169e+01, 4.87755169e+01, 4.87755169e+01, 4.87755169e+01,\n",
       "       4.87755169e+01, 4.87755169e+01, 4.87755169e+01, 4.87755169e+01,\n",
       "       4.87755169e+01, 4.87755169e+01, 4.87755169e+01, 4.87755169e+01,\n",
       "       4.87755169e+01, 4.87755169e+01, 4.87755169e+01, 4.87755169e+01,\n",
       "       4.87755169e+01, 4.87755169e+01, 4.87755169e+01, 4.87755169e+01,\n",
       "       4.87755169e+01, 4.87755169e+01, 4.87755169e+01, 4.87755169e+01,\n",
       "       4.87755169e+01, 4.87755169e+01, 4.87755169e+01, 4.87755169e+01,\n",
       "       4.87755169e+01, 4.87755169e+01, 4.87755169e+01, 4.87755169e+01,\n",
       "       4.87755169e+01, 4.87755169e+01, 4.87755169e+01, 4.87755169e+01,\n",
       "       4.87755169e+01, 4.87755169e+01, 4.87755169e+01, 4.87755169e+01,\n",
       "       4.87755169e+01, 4.87755169e+01, 4.87755169e+01, 4.87755169e+01,\n",
       "       4.87755169e+01, 4.87755169e+01, 4.87755169e+01, 4.87755169e+01,\n",
       "       4.87755169e+01, 4.87755169e+01, 4.87755169e+01, 4.87755169e+01,\n",
       "       4.87755169e+01, 4.87755169e+01, 4.87755169e+01, 4.87755169e+01,\n",
       "       4.87755169e+01, 4.87755169e+01, 4.87755169e+01, 4.87755169e+01,\n",
       "       4.87755169e+01, 4.87755169e+01, 4.87755169e+01, 4.87755169e+01,\n",
       "       4.87755169e+01, 4.87755169e+01, 4.87755169e+01, 4.87755169e+01])"
      ]
     },
     "execution_count": 36,
     "metadata": {},
     "output_type": "execute_result"
    }
   ],
   "source": [
    "call_values"
   ]
  },
  {
   "cell_type": "code",
   "execution_count": 37,
   "metadata": {},
   "outputs": [
    {
     "data": {
      "text/plain": [
       "array([5.12093137e-08, 1.35547241e+01, 2.55148007e+01, 3.48262511e+01,\n",
       "       4.12227438e+01, 4.50998211e+01, 4.71732950e+01, 4.81517017e+01,\n",
       "       4.85590493e+01, 4.87086854e+01, 4.87571846e+01, 4.87710540e+01,\n",
       "       4.87745536e+01, 4.87753327e+01, 4.87754857e+01, 4.87755123e+01,\n",
       "       4.87755163e+01, 4.87755169e+01, 4.87755169e+01, 4.87755169e+01,\n",
       "       4.87755169e+01, 4.87755169e+01, 4.87755169e+01, 4.87755169e+01,\n",
       "       4.87755169e+01, 4.87755169e+01, 4.87755169e+01, 4.87755169e+01,\n",
       "       4.87755169e+01, 4.87755169e+01, 4.87755169e+01, 4.87755169e+01,\n",
       "       4.87755169e+01, 4.87755169e+01, 4.87755169e+01, 4.87755169e+01,\n",
       "       4.87755169e+01, 4.87755169e+01, 4.87755169e+01, 4.87755169e+01,\n",
       "       4.87755169e+01, 4.87755169e+01, 4.87755169e+01, 4.87755169e+01,\n",
       "       4.87755169e+01, 4.87755169e+01, 4.87755169e+01, 4.87755169e+01,\n",
       "       4.87755169e+01, 4.87755169e+01, 4.87755169e+01, 4.87755169e+01,\n",
       "       4.87755169e+01, 4.87755169e+01, 4.87755169e+01, 4.87755169e+01,\n",
       "       4.87755169e+01, 4.87755169e+01, 4.87755169e+01, 4.87755169e+01,\n",
       "       4.87755169e+01, 4.87755169e+01, 4.87755169e+01, 4.87755169e+01,\n",
       "       4.87755169e+01, 4.87755169e+01, 4.87755169e+01, 4.87755169e+01,\n",
       "       4.87755169e+01, 4.87755169e+01, 4.87755169e+01, 4.87755169e+01,\n",
       "       4.87755169e+01, 4.87755169e+01, 4.87755169e+01, 4.87755169e+01,\n",
       "       4.87755169e+01, 4.87755169e+01, 4.87755169e+01, 4.87755169e+01,\n",
       "       4.87755169e+01, 4.87755169e+01, 4.87755169e+01, 4.87755169e+01,\n",
       "       4.87755169e+01, 4.87755169e+01, 4.87755169e+01, 4.87755169e+01,\n",
       "       4.87755169e+01, 4.87755169e+01, 4.87755169e+01, 4.87755169e+01,\n",
       "       4.87755169e+01, 4.87755169e+01, 4.87755169e+01, 4.87755169e+01,\n",
       "       4.87755169e+01, 4.87755169e+01, 4.87755169e+01, 4.87755169e+01])"
      ]
     },
     "execution_count": 37,
     "metadata": {},
     "output_type": "execute_result"
    }
   ],
   "source": [
    "put_values"
   ]
  },
  {
   "cell_type": "code",
   "execution_count": 38,
   "metadata": {},
   "outputs": [
    {
     "data": {
      "text/plain": [
       "<matplotlib.legend.Legend at 0x1ab6e7104c0>"
      ]
     },
     "execution_count": 38,
     "metadata": {},
     "output_type": "execute_result"
    },
    {
     "data": {
      "image/png": "[encoded data removed]",
      "text/plain": [
       "<Figure size 640x480 with 1 Axes>"
      ]
     },
     "metadata": {},
     "output_type": "display_data"
    }
   ],
   "source": [
    "plt.plot(volatility, call_values, label=\"Call Value\")\n",
    "plt.plot(volatility, put_values, label=\"Put Value\")\n",
    "plt.legend()"
   ]
  },
  {
   "cell_type": "code",
   "execution_count": null,
   "metadata": {},
   "outputs": [],
   "source": []
  }
 ],
 "metadata": {
  "kernelspec": {
   "display_name": "Python 3",
   "language": "python",
   "name": "python3"
  },
  "language_info": {
   "codemirror_mode": {
    "name": "ipython",
    "version": 3
   },
   "file_extension": ".py",
   "mimetype": "text/x-python",
   "name": "python",
   "nbconvert_exporter": "python",
   "pygments_lexer": "ipython3",
   "version": "3.10.13"
  }
 },
 "nbformat": 4,
 "nbformat_minor": 2
}
