{
 "cells": [
  {
   "cell_type": "markdown",
   "metadata": {},
   "source": [
    "# Determining the Fair Spread of a CDS Tranche"
   ]
  },
  {
   "cell_type": "markdown",
   "metadata": {},
   "source": [
    "An analysis of pricing a CDS Index using its intrinsic value"
   ]
  },
  {
   "cell_type": "code",
   "execution_count": 1,
   "metadata": {},
   "outputs": [],
   "source": [
    "import numpy as np\n",
    "import matplotlib.pyplot as plt"
   ]
  },
  {
   "cell_type": "code",
   "execution_count": 2,
   "metadata": {},
   "outputs": [
    {
     "name": "stdout",
     "output_type": "stream",
     "text": [
      "####################################################################\n",
      "# FINANCEPY BETA Version 0.33 - This build:  11 Nov 2023 at 07:47 #\n",
      "#     This software is distributed FREE AND WITHOUT ANY WARRANTY   #\n",
      "#  Report bugs as issues at https://github.com/domokane/FinancePy  #\n",
      "####################################################################\n",
      "\n"
     ]
    }
   ],
   "source": [
    "from financepy.utils import *\n",
    "from financepy.products.rates import *\n",
    "from financepy.products.credit import *"
   ]
  },
  {
   "cell_type": "code",
   "execution_count": 3,
   "metadata": {},
   "outputs": [],
   "source": [
    "value_date = Date(2, 8, 2007)\n",
    "settle_date = value_date.add_weekdays(1)"
   ]
  },
  {
   "cell_type": "markdown",
   "metadata": {},
   "source": [
    "## Build Ibor Curve"
   ]
  },
  {
   "cell_type": "code",
   "execution_count": 4,
   "metadata": {},
   "outputs": [],
   "source": [
    "dcType = DayCountTypes.THIRTY_E_360_ISDA\n",
    "depos = []\n",
    "depo = IborDeposit(value_date, \"1D\", 0.0500, dcType); depos.append(depo)\n",
    "depo = IborDeposit(settle_date, \"1D\", 0.0500, dcType); depos.append(depo)\n",
    "\n",
    "fixedFreq = FrequencyTypes.SEMI_ANNUAL\n",
    "swapType = SwapTypes.PAY\n",
    "swap1 = IborSwap(settle_date,\"1Y\",swapType,0.0502,fixedFreq,dcType)\n",
    "swap2 = IborSwap(settle_date,\"2Y\",swapType,0.0502,fixedFreq,dcType)\n",
    "swap3 = IborSwap(settle_date,\"3Y\",swapType,0.0501,fixedFreq,dcType)\n",
    "swap4 = IborSwap(settle_date,\"4Y\",swapType,0.0502,fixedFreq,dcType)\n",
    "swap5 = IborSwap(settle_date,\"5Y\",swapType,0.0501,fixedFreq,dcType)\n",
    "swaps = [swap1,swap2,swap3,swap4,swap5]\n",
    "\n",
    "libor_curve = IborSingleCurve(value_date, depos, [], swaps)"
   ]
  },
  {
   "cell_type": "markdown",
   "metadata": {},
   "source": [
    "We treat an index as a CDS contract with a flat CDS curve at the CDS index spread for the same maturity"
   ]
  },
  {
   "cell_type": "markdown",
   "metadata": {},
   "source": [
    "## Create the Underlying CDS Index Portfolio"
   ]
  },
  {
   "cell_type": "code",
   "execution_count": 5,
   "metadata": {},
   "outputs": [],
   "source": [
    "step_in_date = value_date.add_weekdays(1)"
   ]
  },
  {
   "cell_type": "code",
   "execution_count": 6,
   "metadata": {},
   "outputs": [],
   "source": [
    "maturity3Y = value_date.next_cds_date(36)\n",
    "maturity5Y = value_date.next_cds_date(60)\n",
    "maturity7Y = value_date.next_cds_date(84)\n",
    "maturity10Y = value_date.next_cds_date(120)"
   ]
  },
  {
   "cell_type": "markdown",
   "metadata": {},
   "source": [
    "### Heterogeneous Curves"
   ]
  },
  {
   "cell_type": "code",
   "execution_count": 7,
   "metadata": {},
   "outputs": [],
   "source": [
    "f = open('.//data//CDX_NA_IG_S7_SPREADS.csv', 'r')\n",
    "data = f.readlines()\n",
    "heteroIssuerCurves = []\n",
    "\n",
    "num_credits = len(data) - 1  # The file has a header\n",
    "\n",
    "for row in data[1:]:\n",
    "    splitRow = row.split(\",\")\n",
    "    spd3Y = float(splitRow[1]) / 10000.0\n",
    "    spd5Y = float(splitRow[2]) / 10000.0\n",
    "    spd7Y = float(splitRow[3]) / 10000.0\n",
    "    spd10Y = float(splitRow[4]) / 10000.0\n",
    "    recovery_rate = float(splitRow[5])\n",
    "    cds3Y = CDS(step_in_date, maturity3Y, spd3Y)\n",
    "    cds5Y = CDS(step_in_date, maturity5Y, spd5Y)\n",
    "    cds7Y = CDS(step_in_date, maturity7Y, spd7Y)\n",
    "    cds10Y = CDS(step_in_date, maturity10Y, spd10Y)\n",
    "    cds_contracts = [cds3Y, cds5Y, cds7Y, cds10Y]\n",
    "    issuer_curve = CDSCurve(value_date, cds_contracts, libor_curve, recovery_rate)\n",
    "    heteroIssuerCurves.append(issuer_curve)"
   ]
  },
  {
   "cell_type": "markdown",
   "metadata": {},
   "source": [
    "### Homogeneous Curves "
   ]
  },
  {
   "cell_type": "markdown",
   "metadata": {},
   "source": [
    "Calculate the average spread of the heterogeneous portfolio"
   ]
  },
  {
   "cell_type": "code",
   "execution_count": 8,
   "metadata": {},
   "outputs": [],
   "source": [
    "homoIssuerCurves = []\n",
    "num_credits = 125\n",
    "recovery_rate = 0.40 "
   ]
  },
  {
   "cell_type": "code",
   "execution_count": 9,
   "metadata": {},
   "outputs": [],
   "source": [
    "cdsIndex = CDSIndexPortfolio()"
   ]
  },
  {
   "cell_type": "code",
   "execution_count": 10,
   "metadata": {},
   "outputs": [],
   "source": [
    "spd3Y = cdsIndex.intrinsic_spread(value_date, step_in_date, maturity3Y, heteroIssuerCurves)\n",
    "spd5Y = cdsIndex.intrinsic_spread(value_date, step_in_date, maturity5Y, heteroIssuerCurves)\n",
    "spd7Y = cdsIndex.intrinsic_spread(value_date, step_in_date, maturity7Y, heteroIssuerCurves)\n",
    "spd10Y = cdsIndex.intrinsic_spread(value_date, step_in_date, maturity10Y, heteroIssuerCurves)"
   ]
  },
  {
   "cell_type": "code",
   "execution_count": 11,
   "metadata": {},
   "outputs": [
    {
     "name": "stdout",
     "output_type": "stream",
     "text": [
      "Homogeneous curve 3Y: 19.678793982955575\n",
      "Homogeneous curve 5Y: 35.53914238947779\n",
      "Homogeneous curve 7Y: 49.01183816666461\n",
      "Homogeneous curve 10Y: 61.41376931517749\n"
     ]
    }
   ],
   "source": [
    "print(\"Homogeneous curve 3Y:\", spd3Y*10000)\n",
    "print(\"Homogeneous curve 5Y:\", spd5Y*10000)\n",
    "print(\"Homogeneous curve 7Y:\", spd7Y*10000)\n",
    "print(\"Homogeneous curve 10Y:\", spd10Y*10000)"
   ]
  },
  {
   "cell_type": "code",
   "execution_count": 12,
   "metadata": {},
   "outputs": [],
   "source": [
    "for row in range(0,num_credits):\n",
    "    cds3Y = CDS(step_in_date, maturity3Y, spd3Y)\n",
    "    cds5Y = CDS(step_in_date, maturity5Y, spd5Y)\n",
    "    cds7Y = CDS(step_in_date, maturity7Y, spd7Y)\n",
    "    cds10Y = CDS(step_in_date, maturity10Y, spd10Y)\n",
    "    cds_contracts = [cds3Y, cds5Y, cds7Y, cds10Y]\n",
    "    issuer_curve = CDSCurve(value_date, cds_contracts, libor_curve, recovery_rate)\n",
    "    homoIssuerCurves.append(issuer_curve)"
   ]
  },
  {
   "cell_type": "markdown",
   "metadata": {},
   "source": [
    "## Define the Tranches"
   ]
  },
  {
   "cell_type": "code",
   "execution_count": 13,
   "metadata": {},
   "outputs": [],
   "source": [
    "trancheMaturity = maturity5Y\n",
    "tranche1 = CDSTranche(value_date, trancheMaturity, 0.00, 0.03)\n",
    "tranche2 = CDSTranche(value_date, trancheMaturity, 0.03, 0.06)\n",
    "tranche3 = CDSTranche(value_date, trancheMaturity, 0.06, 0.09)\n",
    "tranche4 = CDSTranche(value_date, trancheMaturity, 0.09, 0.12)\n",
    "tranche5 = CDSTranche(value_date, trancheMaturity, 0.12, 0.22)\n",
    "tranche6 = CDSTranche(value_date, trancheMaturity, 0.22, 0.60)\n",
    "tranche7 = CDSTranche(value_date, trancheMaturity, 0.00, 0.60)\n",
    "tranche8 = CDSTranche(value_date, trancheMaturity, 0.00, 1.00)"
   ]
  },
  {
   "cell_type": "code",
   "execution_count": 14,
   "metadata": {},
   "outputs": [],
   "source": [
    "tranches = [tranche1, tranche2, tranche3, tranche4, tranche5, tranche6, tranche7, tranche8]"
   ]
  },
  {
   "cell_type": "code",
   "execution_count": 15,
   "metadata": {},
   "outputs": [],
   "source": [
    "corr1 = 0.30\n",
    "corr2 = 0.30\n",
    "upfront = 0.0\n",
    "spd = 0.0"
   ]
  },
  {
   "cell_type": "markdown",
   "metadata": {},
   "source": [
    "## Homogeneous Portfolio Results"
   ]
  },
  {
   "cell_type": "code",
   "execution_count": 16,
   "metadata": {},
   "outputs": [
    {
     "name": "stdout",
     "output_type": "stream",
     "text": [
      "                                            Method NumPts        K1        K2     SPD(BPS)\n",
      "              FinLossDistributionBuilder.RECURSION    50   0.00000   3.00000   875.088146\n",
      "      FinLossDistributionBuilder.ADJUSTED_BINOMIAL    50   0.00000   3.00000   875.088146\n",
      "               FinLossDistributionBuilder.GAUSSIAN    50   0.00000   3.00000   904.030205\n",
      "                    FinLossDistributionBuilder.LHP    50   0.00000   3.00000   914.366815\n",
      "=============================================================================================\n",
      "              FinLossDistributionBuilder.RECURSION    50   3.00000   6.00000   239.580083\n",
      "      FinLossDistributionBuilder.ADJUSTED_BINOMIAL    50   3.00000   6.00000   239.580083\n",
      "               FinLossDistributionBuilder.GAUSSIAN    50   3.00000   6.00000   215.722567\n",
      "                    FinLossDistributionBuilder.LHP    50   3.00000   6.00000   226.808804\n",
      "=============================================================================================\n",
      "              FinLossDistributionBuilder.RECURSION    50   6.00000   9.00000   102.124297\n",
      "      FinLossDistributionBuilder.ADJUSTED_BINOMIAL    50   6.00000   9.00000   102.124297\n",
      "               FinLossDistributionBuilder.GAUSSIAN    50   6.00000   9.00000    88.490532\n",
      "                    FinLossDistributionBuilder.LHP    50   6.00000   9.00000    94.918261\n",
      "=============================================================================================\n",
      "              FinLossDistributionBuilder.RECURSION    50   9.00000  12.00000    49.210550\n",
      "      FinLossDistributionBuilder.ADJUSTED_BINOMIAL    50   9.00000  12.00000    49.210550\n",
      "               FinLossDistributionBuilder.GAUSSIAN    50   9.00000  12.00000    41.373659\n",
      "                    FinLossDistributionBuilder.LHP    50   9.00000  12.00000    45.133119\n",
      "=============================================================================================\n",
      "              FinLossDistributionBuilder.RECURSION    50  12.00000  22.00000    14.018928\n",
      "      FinLossDistributionBuilder.ADJUSTED_BINOMIAL    50  12.00000  22.00000    14.018928\n",
      "               FinLossDistributionBuilder.GAUSSIAN    50  12.00000  22.00000    11.258256\n",
      "                    FinLossDistributionBuilder.LHP    50  12.00000  22.00000    12.630172\n",
      "=============================================================================================\n",
      "              FinLossDistributionBuilder.RECURSION    50  22.00000  60.00000     0.489382\n",
      "      FinLossDistributionBuilder.ADJUSTED_BINOMIAL    50  22.00000  60.00000     0.489382\n",
      "               FinLossDistributionBuilder.GAUSSIAN    50  22.00000  60.00000     0.342437\n",
      "                    FinLossDistributionBuilder.LHP    50  22.00000  60.00000     0.418044\n",
      "=============================================================================================\n",
      "              FinLossDistributionBuilder.RECURSION    50   0.00000  60.00000    59.215546\n",
      "      FinLossDistributionBuilder.ADJUSTED_BINOMIAL    50   0.00000  60.00000    59.215546\n",
      "               FinLossDistributionBuilder.GAUSSIAN    50   0.00000  60.00000    57.715176\n",
      "                    FinLossDistributionBuilder.LHP    50   0.00000  60.00000    59.215428\n",
      "=============================================================================================\n",
      "              FinLossDistributionBuilder.RECURSION    50   0.00000 100.00000    35.376821\n",
      "      FinLossDistributionBuilder.ADJUSTED_BINOMIAL    50   0.00000 100.00000    35.376821\n",
      "               FinLossDistributionBuilder.GAUSSIAN    50   0.00000 100.00000    34.487943\n",
      "                    FinLossDistributionBuilder.LHP    50   0.00000 100.00000    35.376814\n",
      "=============================================================================================\n"
     ]
    }
   ],
   "source": [
    "print(\"%50s %5s %9s %9s %12s\"% (\"Method\", \"NumPts\", \"K1\", \"K2\", \"SPD(BPS)\"))\n",
    "for tranche in tranches:\n",
    "    for method in FinLossDistributionBuilder:\n",
    "        for num_points in [50]:\n",
    "            v = tranche.value_bc(value_date,homoIssuerCurves,upfront,spd,corr1,corr2,num_points,method)\n",
    "            print(\"%50s %5d %9.5f %9.5f %12.6f\"% (method, num_points, tranche._k1*100, tranche._k2*100, v[3] * 10000))\n",
    "    print(\"=============================================================================================\")"
   ]
  },
  {
   "cell_type": "markdown",
   "metadata": {},
   "source": [
    "## Heterogeneous Portfolio Results"
   ]
  },
  {
   "cell_type": "code",
   "execution_count": 17,
   "metadata": {
    "scrolled": false
   },
   "outputs": [
    {
     "name": "stdout",
     "output_type": "stream",
     "text": [
      "                                            Method NumPts        K1        K2     SPD(BPS)\n",
      "              FinLossDistributionBuilder.RECURSION    50    0.00000   3.00000   949.541331\n",
      "      FinLossDistributionBuilder.ADJUSTED_BINOMIAL    50    0.00000   3.00000   949.473315\n",
      "               FinLossDistributionBuilder.GAUSSIAN    50    0.00000   3.00000   980.861757\n",
      "                    FinLossDistributionBuilder.LHP    50    0.00000   3.00000   914.736913\n",
      "=============================================================================================\n",
      "              FinLossDistributionBuilder.RECURSION    50    3.00000   6.00000   230.886128\n",
      "      FinLossDistributionBuilder.ADJUSTED_BINOMIAL    50    3.00000   6.00000   230.978141\n",
      "               FinLossDistributionBuilder.GAUSSIAN    50    3.00000   6.00000   202.216426\n",
      "                    FinLossDistributionBuilder.LHP    50    3.00000   6.00000   226.808075\n",
      "=============================================================================================\n",
      "              FinLossDistributionBuilder.RECURSION    50    6.00000   9.00000    87.195509\n",
      "      FinLossDistributionBuilder.ADJUSTED_BINOMIAL    50    6.00000   9.00000    87.253318\n",
      "               FinLossDistributionBuilder.GAUSSIAN    50    6.00000   9.00000    72.506560\n",
      "                    FinLossDistributionBuilder.LHP    50    6.00000   9.00000    94.905626\n",
      "=============================================================================================\n",
      "              FinLossDistributionBuilder.RECURSION    50    9.00000  12.00000    37.477378\n",
      "      FinLossDistributionBuilder.ADJUSTED_BINOMIAL    50    9.00000  12.00000    37.326454\n",
      "               FinLossDistributionBuilder.GAUSSIAN    50    9.00000  12.00000    29.967137\n",
      "                    FinLossDistributionBuilder.LHP    50    9.00000  12.00000    45.123579\n",
      "=============================================================================================\n",
      "              FinLossDistributionBuilder.RECURSION    50   12.00000  22.00000     8.938853\n",
      "      FinLossDistributionBuilder.ADJUSTED_BINOMIAL    50   12.00000  22.00000     8.955035\n",
      "               FinLossDistributionBuilder.GAUSSIAN    50   12.00000  22.00000     6.758698\n",
      "                    FinLossDistributionBuilder.LHP    50   12.00000  22.00000    12.626359\n",
      "=============================================================================================\n",
      "              FinLossDistributionBuilder.RECURSION    50   22.00000  60.00000     0.212516\n",
      "      FinLossDistributionBuilder.ADJUSTED_BINOMIAL    50   22.00000  60.00000     0.212590\n",
      "               FinLossDistributionBuilder.GAUSSIAN    50   22.00000  60.00000     0.135713\n",
      "                    FinLossDistributionBuilder.LHP    50   22.00000  60.00000     0.417857\n",
      "=============================================================================================\n",
      "              FinLossDistributionBuilder.RECURSION    50    0.00000  60.00000    59.215520\n",
      "      FinLossDistributionBuilder.ADJUSTED_BINOMIAL    50    0.00000  60.00000    59.215520\n",
      "               FinLossDistributionBuilder.GAUSSIAN    50    0.00000  60.00000    57.696081\n",
      "                    FinLossDistributionBuilder.LHP    50    0.00000  60.00000    59.215386\n",
      "=============================================================================================\n",
      "              FinLossDistributionBuilder.RECURSION    50    0.00000 100.00000    35.376468\n",
      "      FinLossDistributionBuilder.ADJUSTED_BINOMIAL    50    0.00000 100.00000    35.376468\n",
      "               FinLossDistributionBuilder.GAUSSIAN    50    0.00000 100.00000    34.476642\n",
      "                    FinLossDistributionBuilder.LHP    50    0.00000 100.00000    35.376450\n",
      "=============================================================================================\n"
     ]
    }
   ],
   "source": [
    "print(\"%50s %5s %9s %9s %12s\"% (\"Method\", \"NumPts\", \"K1\", \"K2\", \"SPD(BPS)\"))\n",
    "\n",
    "for tranche in tranches:\n",
    "    for method in FinLossDistributionBuilder:\n",
    "        for num_points in [50]:\n",
    "            v = tranche.value_bc(value_date,heteroIssuerCurves,upfront,spd,corr1,corr2,num_points,method)\n",
    "            print(\"%50s %5d  %9.5f %9.5f %12.6f\"% (method, num_points, tranche._k1*100, tranche._k2*100, v[3] * 10000))\n",
    "    print(\"=============================================================================================\")"
   ]
  },
  {
   "cell_type": "markdown",
   "metadata": {},
   "source": [
    "Copyright (c) 2020 Dominic O'Kane"
   ]
  }
 ],
 "metadata": {
  "kernelspec": {
   "display_name": "Python 3",
   "language": "python",
   "name": "python3"
  },
  "language_info": {
   "codemirror_mode": {
    "name": "ipython",
    "version": 3
   },
   "file_extension": ".py",
   "mimetype": "text/x-python",
   "name": "python",
   "nbconvert_exporter": "python",
   "pygments_lexer": "ipython3",
   "version": "3.10.13"
  }
 },
 "nbformat": 4,
 "nbformat_minor": 2
}
