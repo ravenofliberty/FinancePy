{
 "cells": [
  {
   "cell_type": "markdown",
   "metadata": {},
   "source": [
    "# Building a CDS Survival Curve"
   ]
  },
  {
   "cell_type": "markdown",
   "metadata": {},
   "source": [
    "Understand what a CDS survival curve is"
   ]
  },
  {
   "cell_type": "code",
   "execution_count": 1,
   "metadata": {},
   "outputs": [],
   "source": [
    "import numpy as np\n",
    "import matplotlib.pyplot as plt"
   ]
  },
  {
   "cell_type": "code",
   "execution_count": 2,
   "metadata": {},
   "outputs": [
    {
     "name": "stdout",
     "output_type": "stream",
     "text": [
      "####################################################################\n",
      "# FINANCEPY BETA Version 0.33 - This build:  11 Nov 2023 at 07:47 #\n",
      "#     This software is distributed FREE AND WITHOUT ANY WARRANTY   #\n",
      "#  Report bugs as issues at https://github.com/domokane/FinancePy  #\n",
      "####################################################################\n",
      "\n"
     ]
    }
   ],
   "source": [
    "from financepy.products.credit import *\n",
    "from financepy.products.rates import *\n",
    "from financepy.utils import *"
   ]
  },
  {
   "cell_type": "markdown",
   "metadata": {},
   "source": [
    "## Build Ibor Curve"
   ]
  },
  {
   "cell_type": "code",
   "execution_count": 3,
   "metadata": {},
   "outputs": [],
   "source": [
    "value_date = Date(20, 12, 2018)\n",
    "settle_date = value_date.add_weekdays(2)"
   ]
  },
  {
   "cell_type": "code",
   "execution_count": 4,
   "metadata": {},
   "outputs": [],
   "source": [
    "dcType = DayCountTypes.ACT_360\n",
    "depo1 = IborDeposit(settle_date, \"1M\", 0.022009, dcType)\n",
    "depo2 = IborDeposit(settle_date, \"2M\", 0.022138, dcType)\n",
    "depo3 = IborDeposit(settle_date, \"3M\", 0.021810, dcType)\n",
    "depo4 = IborDeposit(settle_date, \"6M\", 0.020503, dcType)\n",
    "depo5 = IborDeposit(settle_date, \"12M\", 0.019930, dcType)\n",
    "depos = [depo1,depo2,depo3,depo4,depo5]\n",
    "\n",
    "swapType = SwapTypes.PAY\n",
    "dcType = DayCountTypes.THIRTY_E_360_ISDA\n",
    "fixedFreq = FrequencyTypes.SEMI_ANNUAL\n",
    "swap1 = IborSwap(settle_date,\"2Y\",swapType,0.015910,fixedFreq,dcType)\n",
    "swap2 = IborSwap(settle_date,\"3Y\",swapType,0.014990,fixedFreq,dcType)\n",
    "swap3 = IborSwap(settle_date,\"4Y\",swapType,0.014725,fixedFreq,dcType)\n",
    "swap4 = IborSwap(settle_date,\"5Y\",swapType,0.014640,fixedFreq,dcType)\n",
    "swap5 = IborSwap(settle_date,\"6Y\",swapType,0.014800,fixedFreq,dcType)\n",
    "swap6 = IborSwap(settle_date,\"7Y\",swapType,0.014995,fixedFreq,dcType)\n",
    "swap7 = IborSwap(settle_date,\"8Y\",swapType,0.015180,fixedFreq,dcType)\n",
    "swap8 = IborSwap(settle_date,\"9Y\",swapType,0.015610,fixedFreq,dcType)\n",
    "swap9 = IborSwap(settle_date,\"10Y\",swapType,0.0159880,fixedFreq,dcType)\n",
    "swap10 = IborSwap(settle_date,\"12Y\",swapType,0.016430,fixedFreq,dcType)\n",
    "swaps = [swap1,swap2,swap3,swap4,swap5,swap6,swap7,swap8,swap9,swap10]\n",
    "\n",
    "libor_curve = IborSingleCurve(value_date, depos, [], swaps)"
   ]
  },
  {
   "cell_type": "markdown",
   "metadata": {},
   "source": [
    "# Build a CDS Curve"
   ]
  },
  {
   "cell_type": "code",
   "execution_count": 5,
   "metadata": {},
   "outputs": [],
   "source": [
    "cds1 = CDS(settle_date, \"1Y\", 0.0200)\n",
    "cds2 = CDS(settle_date, \"2Y\", 0.0220)\n",
    "cds3 = CDS(settle_date, \"3Y\", 0.0250)\n",
    "cds4 = CDS(settle_date, \"4Y\", 0.0275)\n",
    "cds5 = CDS(settle_date, \"5Y\", 0.0290)\n",
    "cds6 = CDS(settle_date, \"7Y\", 0.0300)\n",
    "cds7 = CDS(settle_date, \"10Y\", 0.0310)\n",
    "cds8 = CDS(settle_date, \"15Y\", 0.0315)"
   ]
  },
  {
   "cell_type": "code",
   "execution_count": 6,
   "metadata": {},
   "outputs": [],
   "source": [
    "cdss = [cds1, cds2, cds3, cds4, cds5, cds6, cds7, cds8]"
   ]
  },
  {
   "cell_type": "code",
   "execution_count": 7,
   "metadata": {},
   "outputs": [],
   "source": [
    "recovery_rate = 0.40"
   ]
  },
  {
   "cell_type": "code",
   "execution_count": 8,
   "metadata": {},
   "outputs": [],
   "source": [
    "issuer_curve = CDSCurve(value_date, cdss, libor_curve, recovery_rate)"
   ]
  },
  {
   "cell_type": "markdown",
   "metadata": {},
   "source": [
    "## Examine the Survival Curve"
   ]
  },
  {
   "cell_type": "code",
   "execution_count": 9,
   "metadata": {},
   "outputs": [
    {
     "name": "stdout",
     "output_type": "stream",
     "text": [
      "[ 0.          1.24931507  2.24931507  3.24931507  4.24931507  5.25205479\n",
      "  7.25205479 10.25479452 15.25753425]\n"
     ]
    }
   ],
   "source": [
    "print(issuer_curve._times)"
   ]
  },
  {
   "cell_type": "code",
   "execution_count": 10,
   "metadata": {},
   "outputs": [
    {
     "name": "stdout",
     "output_type": "stream",
     "text": [
      "[1.         0.95847948 0.91945255 0.87055275 0.81814148 0.76899734\n",
      " 0.68705399 0.57684385 0.43542867]\n"
     ]
    }
   ],
   "source": [
    "print(issuer_curve._values)"
   ]
  },
  {
   "cell_type": "code",
   "execution_count": 11,
   "metadata": {},
   "outputs": [],
   "source": [
    "times = np.linspace(0.0,20.0,10)"
   ]
  },
  {
   "cell_type": "code",
   "execution_count": 12,
   "metadata": {},
   "outputs": [
    {
     "data": {
      "text/plain": [
       "array([ 0.        ,  2.22222222,  4.44444444,  6.66666667,  8.88888889,\n",
       "       11.11111111, 13.33333333, 15.55555556, 17.77777778, 20.        ])"
      ]
     },
     "execution_count": 12,
     "metadata": {},
     "output_type": "execute_result"
    }
   ],
   "source": [
    "times"
   ]
  },
  {
   "cell_type": "code",
   "execution_count": 13,
   "metadata": {},
   "outputs": [],
   "source": [
    "survival_probs = issuer_curve.survival_prob(times)"
   ]
  },
  {
   "cell_type": "code",
   "execution_count": 14,
   "metadata": {},
   "outputs": [
    {
     "data": {
      "text/plain": [
       "array([1.        , 0.92048866, 0.80833815, 0.71009025, 0.62459568,\n",
       "       0.54973249, 0.48517246, 0.42819429, 0.37790757, 0.33352648])"
      ]
     },
     "execution_count": 14,
     "metadata": {},
     "output_type": "execute_result"
    }
   ],
   "source": [
    "survival_probs"
   ]
  },
  {
   "cell_type": "code",
   "execution_count": 15,
   "metadata": {},
   "outputs": [
    {
     "data": {
      "text/plain": [
       "Text(0, 0.5, 'Survival Probability')"
      ]
     },
     "execution_count": 15,
     "metadata": {},
     "output_type": "execute_result"
    },
    {
     "data": {
      "image/png": "[encoded data removed]",
      "text/plain": [
       "<Figure size 640x480 with 1 Axes>"
      ]
     },
     "metadata": {},
     "output_type": "display_data"
    }
   ],
   "source": [
    "plt.plot(times, survival_probs)\n",
    "plt.xlabel(\"Years\")\n",
    "plt.ylabel(\"Survival Probability\")"
   ]
  },
  {
   "cell_type": "markdown",
   "metadata": {},
   "source": [
    "Copyright (c) 2020 Dominic O'Kane"
   ]
  }
 ],
 "metadata": {
  "kernelspec": {
   "display_name": "Python 3",
   "language": "python",
   "name": "python3"
  },
  "language_info": {
   "codemirror_mode": {
    "name": "ipython",
    "version": 3
   },
   "file_extension": ".py",
   "mimetype": "text/x-python",
   "name": "python",
   "nbconvert_exporter": "python",
   "pygments_lexer": "ipython3",
   "version": "3.10.13"
  }
 },
 "nbformat": 4,
 "nbformat_minor": 2
}
