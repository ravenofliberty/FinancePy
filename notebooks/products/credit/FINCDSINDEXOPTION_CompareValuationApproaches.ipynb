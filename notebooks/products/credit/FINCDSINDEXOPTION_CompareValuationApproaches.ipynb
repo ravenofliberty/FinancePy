{
 "cells": [
  {
   "cell_type": "markdown",
   "metadata": {},
   "source": [
    "# Creating and Valuing a CDS Index Option"
   ]
  },
  {
   "cell_type": "markdown",
   "metadata": {},
   "source": [
    "This notebook does the valuation of an option on a CDS index using Anderson's method and an Adjusted Black Method. For details see Modelling Singlename and Multiname Credit Derivatives by D.O'Kane."
   ]
  },
  {
   "cell_type": "code",
   "execution_count": 1,
   "metadata": {},
   "outputs": [],
   "source": [
    "import numpy as np\n",
    "import matplotlib.pyplot as plt"
   ]
  },
  {
   "cell_type": "code",
   "execution_count": 2,
   "metadata": {},
   "outputs": [
    {
     "name": "stdout",
     "output_type": "stream",
     "text": [
      "####################################################################\n",
      "# FINANCEPY BETA Version 0.33 - This build:  11 Nov 2023 at 07:47 #\n",
      "#     This software is distributed FREE AND WITHOUT ANY WARRANTY   #\n",
      "#  Report bugs as issues at https://github.com/domokane/FinancePy  #\n",
      "####################################################################\n",
      "\n"
     ]
    }
   ],
   "source": [
    "from financepy.utils import *\n",
    "from financepy.products.rates import *\n",
    "from financepy.products.credit import *"
   ]
  },
  {
   "cell_type": "code",
   "execution_count": 3,
   "metadata": {},
   "outputs": [],
   "source": [
    "value_date = Date(1, 8, 2007)\n",
    "step_in_date = value_date.add_weekdays(0)\n",
    "value_date = step_in_date\n",
    "settle_date = step_in_date"
   ]
  },
  {
   "cell_type": "markdown",
   "metadata": {},
   "source": [
    "## Build Libor Curve"
   ]
  },
  {
   "cell_type": "code",
   "execution_count": 4,
   "metadata": {},
   "outputs": [],
   "source": [
    "dcType = DayCountTypes.THIRTY_E_360_ISDA\n",
    "depos = []\n",
    "depo = IborDeposit(settle_date, \"1D\", 0.0500, dcType); depos.append(depo)\n",
    "\n",
    "fixedFreq = FrequencyTypes.SEMI_ANNUAL\n",
    "swapType = SwapTypes.PAY\n",
    "swap1 = IborSwap(settle_date,\"1Y\",swapType,0.0502,fixedFreq,dcType)\n",
    "swap2 = IborSwap(settle_date,\"2Y\",swapType,0.0502,fixedFreq,dcType)\n",
    "swap3 = IborSwap(settle_date,\"3Y\",swapType,0.0501,fixedFreq,dcType)\n",
    "swap4 = IborSwap(settle_date,\"4Y\",swapType,0.0502,fixedFreq,dcType)\n",
    "swap5 = IborSwap(settle_date,\"5Y\",swapType,0.0501,fixedFreq,dcType)\n",
    "swaps = [swap1,swap2,swap3,swap4,swap5]\n",
    "\n",
    "libor_curve = IborSingleCurve(value_date, depos, [], swaps)"
   ]
  },
  {
   "cell_type": "code",
   "execution_count": 5,
   "metadata": {},
   "outputs": [],
   "source": [
    "cdsMaturity3Y = value_date.next_cds_date(36)\n",
    "cdsMaturity5Y = value_date.next_cds_date(60)\n",
    "cdsMaturity7Y = value_date.next_cds_date(84)\n",
    "cdsMaturity10Y = value_date.next_cds_date(120)"
   ]
  },
  {
   "cell_type": "markdown",
   "metadata": {},
   "source": [
    "## Load the Underlying CDS Index Portfolio"
   ]
  },
  {
   "cell_type": "code",
   "execution_count": 6,
   "metadata": {},
   "outputs": [],
   "source": [
    "f = open('.//data//CDX_NA_IG_S7_SPREADS.csv', 'r')\n",
    "data = f.readlines()\n",
    "issuer_curves = []\n",
    "\n",
    "num_credits = len(data) - 1  # The file has a header\n",
    "\n",
    "for row in data[1:]:\n",
    "    splitRow = row.split(\",\")\n",
    "    creditName = splitRow[0]\n",
    "    spd3Y = float(splitRow[1]) / 10000.0\n",
    "    spd5Y = float(splitRow[2]) / 10000.0\n",
    "    spd7Y = float(splitRow[3]) / 10000.0\n",
    "    spd10Y = float(splitRow[4]) / 10000.0\n",
    "    recovery_rate = float(splitRow[5])\n",
    "\n",
    "    cds3Y = CDS(step_in_date, cdsMaturity3Y, spd3Y)\n",
    "    cds5Y = CDS(step_in_date, cdsMaturity5Y, spd5Y)\n",
    "    cds7Y = CDS(step_in_date, cdsMaturity7Y, spd7Y)\n",
    "    cds10Y = CDS(step_in_date, cdsMaturity10Y, spd10Y)\n",
    "    cds_contracts = [cds3Y, cds5Y, cds7Y, cds10Y]\n",
    "\n",
    "    issuer_curve = CDSCurve(value_date, cds_contracts, libor_curve, recovery_rate)\n",
    "    issuer_curves.append(issuer_curve)"
   ]
  },
  {
   "cell_type": "markdown",
   "metadata": {},
   "source": [
    "## Term Structure of CDS Index Market"
   ]
  },
  {
   "cell_type": "markdown",
   "metadata": {},
   "source": [
    "We now set up the term structure of CDS Index trades and start by setting up the maturity dates of the index"
   ]
  },
  {
   "cell_type": "code",
   "execution_count": 7,
   "metadata": {},
   "outputs": [],
   "source": [
    "indexMaturity3Y = Date(20,12,2009)\n",
    "indexMaturity5Y = Date(20,12,2011)\n",
    "indexMaturity7Y = Date(20,12,2013)\n",
    "indexMaturity10Y = Date(20,12,2016)"
   ]
  },
  {
   "cell_type": "markdown",
   "metadata": {},
   "source": [
    "Now we set their upfronts and coupons"
   ]
  },
  {
   "cell_type": "code",
   "execution_count": 8,
   "metadata": {},
   "outputs": [],
   "source": [
    "index_upfronts = [0.0, 0.0, 0.0, 0.0]\n",
    "index_maturity_dates = [indexMaturity3Y, indexMaturity5Y, indexMaturity7Y, indexMaturity10Y]\n",
    "indexRecovery = 0.40"
   ]
  },
  {
   "cell_type": "markdown",
   "metadata": {},
   "source": [
    "## Setting up the Index Option"
   ]
  },
  {
   "cell_type": "code",
   "execution_count": 9,
   "metadata": {},
   "outputs": [],
   "source": [
    "expiry_date = Date(1,2,2008)\n",
    "maturity_date = Date(20,12,2011)\n",
    "notional = 10000\n",
    "volatility = 0.50\n",
    "index_coupon = 0.004\n",
    "tolerance = 1e-6"
   ]
  },
  {
   "cell_type": "markdown",
   "metadata": {},
   "source": [
    "## Comparison of Anderson versus Adjusted Black Model"
   ]
  },
  {
   "cell_type": "code",
   "execution_count": 10,
   "metadata": {},
   "outputs": [
    {
     "name": "stdout",
     "output_type": "stream",
     "text": [
      "STRIKE    INDEX      PAY    RECEIVER      G(K)       X         EXPH       ABPAY       ABREC\n",
      "20.000   20.000     16.090      6.237    -70.799      22.87     -60.70      16.12       6.15\n",
      "30.000   20.000      4.040     28.882    -35.287      22.85     -60.76       4.04      28.73\n",
      "40.000   20.000      0.885     60.202      0.000      22.83     -60.82       0.90      59.98\n",
      "50.000   20.000      0.188     93.764     35.064      22.82     -60.88       0.20      93.40\n",
      "60.000   20.000      0.043    127.661     69.907      22.80     -60.94       0.05     127.08\n",
      "20.000   30.000     50.337      0.896    -70.799      34.35     -20.11      50.40       0.84\n",
      "30.000   30.000     24.031      9.255    -35.287      34.34     -20.14      24.07       9.21\n",
      "40.000   30.000      9.749     29.420      0.000      34.33     -20.17       9.83      29.38\n",
      "50.000   30.000      3.654     57.554     35.064      34.32     -20.20       3.72      57.41\n",
      "60.000   30.000      1.325     89.237     69.907      34.31     -20.23       1.37      88.94\n",
      "20.000   40.000     88.871      0.121    -70.799      45.84      20.19      88.98       0.11\n",
      "30.000   40.000     56.658      2.544    -35.287      45.84      20.19      56.66       2.51\n",
      "40.000   40.000     31.910     12.214      0.000      45.84      20.19      31.96      12.25\n",
      "50.000   40.000     16.425     30.928     35.064      45.84      20.19      16.53      31.00\n",
      "60.000   40.000      8.028     56.515     69.907      45.84      20.19       8.14      56.50\n",
      "20.000   50.000    127.829      0.018    -70.799      57.37      60.24     127.92       0.01\n",
      "30.000   50.000     93.877      0.674    -35.287      57.38      60.27      93.80       0.65\n",
      "40.000   50.000     63.489      4.675      0.000      57.39      60.30      63.37       4.69\n",
      "50.000   50.000     39.749     15.105     35.064      57.39      60.33      39.77      15.29\n",
      "60.000   50.000     23.589     32.900     69.907      57.40      60.36      23.65      33.10\n"
     ]
    },
    {
     "ename": "FinError",
     "evalue": "Max Iterations exceeded",
     "output_type": "error",
     "traceback": [
      "\u001b[1;31m---------------------------------------------------------------------------\u001b[0m",
      "\u001b[1;31mFinError\u001b[0m                                  Traceback (most recent call last)",
      "\u001b[1;32mc:\\Users\\Dominic\\Dropbox\\Desktop\\RESEARCH_DB\\FinancePy\\Code\\financepy-git\\notebooks\\products\\credit\\FINCDSINDEXOPTION_CompareValuationApproaches.ipynb Cell 19\u001b[0m line \u001b[0;36m1\n\u001b[0;32m     <a href='vscode-notebook-cell:/c%3A/Users/Dominic/Dropbox/Desktop/RESEARCH_DB/FinancePy/Code/financepy-git/notebooks/products/credit/FINCDSINDEXOPTION_CompareValuationApproaches.ipynb#X24sZmlsZQ%3D%3D?line=14'>15</a>\u001b[0m indexSpreads \u001b[39m=\u001b[39m [index \u001b[39m/\u001b[39m \u001b[39m10000.0\u001b[39m] \u001b[39m*\u001b[39m \u001b[39m4\u001b[39m\n\u001b[0;32m     <a href='vscode-notebook-cell:/c%3A/Users/Dominic/Dropbox/Desktop/RESEARCH_DB/FinancePy/Code/financepy-git/notebooks/products/credit/FINCDSINDEXOPTION_CompareValuationApproaches.ipynb#X24sZmlsZQ%3D%3D?line=16'>17</a>\u001b[0m indexPortfolio \u001b[39m=\u001b[39m CDSIndexPortfolio()\n\u001b[1;32m---> <a href='vscode-notebook-cell:/c%3A/Users/Dominic/Dropbox/Desktop/RESEARCH_DB/FinancePy/Code/financepy-git/notebooks/products/credit/FINCDSINDEXOPTION_CompareValuationApproaches.ipynb#X24sZmlsZQ%3D%3D?line=17'>18</a>\u001b[0m adjustedIssuerCurves \u001b[39m=\u001b[39m indexPortfolio\u001b[39m.\u001b[39;49mhazard_rate_adjust_intrinsic(value_date, \n\u001b[0;32m     <a href='vscode-notebook-cell:/c%3A/Users/Dominic/Dropbox/Desktop/RESEARCH_DB/FinancePy/Code/financepy-git/notebooks/products/credit/FINCDSINDEXOPTION_CompareValuationApproaches.ipynb#X24sZmlsZQ%3D%3D?line=18'>19</a>\u001b[0m                                                                 issuer_curves, \n\u001b[0;32m     <a href='vscode-notebook-cell:/c%3A/Users/Dominic/Dropbox/Desktop/RESEARCH_DB/FinancePy/Code/financepy-git/notebooks/products/credit/FINCDSINDEXOPTION_CompareValuationApproaches.ipynb#X24sZmlsZQ%3D%3D?line=19'>20</a>\u001b[0m                                                                 indexSpreads, \n\u001b[0;32m     <a href='vscode-notebook-cell:/c%3A/Users/Dominic/Dropbox/Desktop/RESEARCH_DB/FinancePy/Code/financepy-git/notebooks/products/credit/FINCDSINDEXOPTION_CompareValuationApproaches.ipynb#X24sZmlsZQ%3D%3D?line=20'>21</a>\u001b[0m                                                                 index_upfronts,\n\u001b[0;32m     <a href='vscode-notebook-cell:/c%3A/Users/Dominic/Dropbox/Desktop/RESEARCH_DB/FinancePy/Code/financepy-git/notebooks/products/credit/FINCDSINDEXOPTION_CompareValuationApproaches.ipynb#X24sZmlsZQ%3D%3D?line=21'>22</a>\u001b[0m                                                                 index_maturity_dates, \n\u001b[0;32m     <a href='vscode-notebook-cell:/c%3A/Users/Dominic/Dropbox/Desktop/RESEARCH_DB/FinancePy/Code/financepy-git/notebooks/products/credit/FINCDSINDEXOPTION_CompareValuationApproaches.ipynb#X24sZmlsZQ%3D%3D?line=22'>23</a>\u001b[0m                                                                 indexRecovery, \n\u001b[0;32m     <a href='vscode-notebook-cell:/c%3A/Users/Dominic/Dropbox/Desktop/RESEARCH_DB/FinancePy/Code/financepy-git/notebooks/products/credit/FINCDSINDEXOPTION_CompareValuationApproaches.ipynb#X24sZmlsZQ%3D%3D?line=23'>24</a>\u001b[0m                                                                 tolerance)        \n\u001b[0;32m     <a href='vscode-notebook-cell:/c%3A/Users/Dominic/Dropbox/Desktop/RESEARCH_DB/FinancePy/Code/financepy-git/notebooks/products/credit/FINCDSINDEXOPTION_CompareValuationApproaches.ipynb#X24sZmlsZQ%3D%3D?line=25'>26</a>\u001b[0m \u001b[39mfor\u001b[39;00m strike \u001b[39min\u001b[39;00m np\u001b[39m.\u001b[39mlinspace(\u001b[39m20\u001b[39m, \u001b[39m60\u001b[39m, \u001b[39m5\u001b[39m):    \n\u001b[0;32m     <a href='vscode-notebook-cell:/c%3A/Users/Dominic/Dropbox/Desktop/RESEARCH_DB/FinancePy/Code/financepy-git/notebooks/products/credit/FINCDSINDEXOPTION_CompareValuationApproaches.ipynb#X24sZmlsZQ%3D%3D?line=27'>28</a>\u001b[0m     option \u001b[39m=\u001b[39m CDSIndexOption(expiry_date,\n\u001b[0;32m     <a href='vscode-notebook-cell:/c%3A/Users/Dominic/Dropbox/Desktop/RESEARCH_DB/FinancePy/Code/financepy-git/notebooks/products/credit/FINCDSINDEXOPTION_CompareValuationApproaches.ipynb#X24sZmlsZQ%3D%3D?line=28'>29</a>\u001b[0m                                maturity_date, \n\u001b[0;32m     <a href='vscode-notebook-cell:/c%3A/Users/Dominic/Dropbox/Desktop/RESEARCH_DB/FinancePy/Code/financepy-git/notebooks/products/credit/FINCDSINDEXOPTION_CompareValuationApproaches.ipynb#X24sZmlsZQ%3D%3D?line=29'>30</a>\u001b[0m                                index_coupon, \n\u001b[0;32m     <a href='vscode-notebook-cell:/c%3A/Users/Dominic/Dropbox/Desktop/RESEARCH_DB/FinancePy/Code/financepy-git/notebooks/products/credit/FINCDSINDEXOPTION_CompareValuationApproaches.ipynb#X24sZmlsZQ%3D%3D?line=30'>31</a>\u001b[0m                                strike \u001b[39m/\u001b[39m \u001b[39m10000.0\u001b[39m, \n\u001b[0;32m     <a href='vscode-notebook-cell:/c%3A/Users/Dominic/Dropbox/Desktop/RESEARCH_DB/FinancePy/Code/financepy-git/notebooks/products/credit/FINCDSINDEXOPTION_CompareValuationApproaches.ipynb#X24sZmlsZQ%3D%3D?line=31'>32</a>\u001b[0m                                notional)\n",
      "File \u001b[1;32m~\\AppData\\Roaming\\Python\\Python310\\site-packages\\financepy\\products\\credit\\cds_index_portfolio.py:449\u001b[0m, in \u001b[0;36mCDSIndexPortfolio.hazard_rate_adjust_intrinsic\u001b[1;34m(self, value_date, issuer_curves, index_cpns, index_up_fronts, index_maturity_dates, index_recovery_rate, tolerance, maxIterations)\u001b[0m\n\u001b[0;32m    446\u001b[0m numIterations \u001b[39m+\u001b[39m\u001b[39m=\u001b[39m \u001b[39m1\u001b[39m\n\u001b[0;32m    448\u001b[0m \u001b[39mif\u001b[39;00m numIterations \u001b[39m>\u001b[39m maxIterations:\n\u001b[1;32m--> 449\u001b[0m     \u001b[39mraise\u001b[39;00m FinError(\u001b[39m\"\u001b[39m\u001b[39mMax Iterations exceeded\u001b[39m\u001b[39m\"\u001b[39m)\n\u001b[0;32m    451\u001b[0m sumRPV01 \u001b[39m=\u001b[39m \u001b[39m0.0\u001b[39m\n\u001b[0;32m    452\u001b[0m sumProt \u001b[39m=\u001b[39m \u001b[39m0.0\u001b[39m\n",
      "\u001b[1;31mFinError\u001b[0m: Max Iterations exceeded"
     ]
    }
   ],
   "source": [
    "print(\"STRIKE    INDEX      PAY    RECEIVER      G(K)       X         EXPH       ABPAY       ABREC\")\n",
    "\n",
    "for index in np.linspace(20, 60, 5):\n",
    "    \n",
    "    # Create a flat CDS index curve\n",
    "    cds_contracts = []\n",
    "    for dt in index_maturity_dates:\n",
    "        cds = CDS(value_date, dt, index / 10000.0)\n",
    "        cds_contracts.append(cds)\n",
    "\n",
    "    # Build the flat CDS index curve\n",
    "    index_curve = CDSCurve(value_date, cds_contracts, libor_curve, indexRecovery)\n",
    "\n",
    "    # Now we need to set up the underlying curves and adjust them\n",
    "    indexSpreads = [index / 10000.0] * 4\n",
    "\n",
    "    indexPortfolio = CDSIndexPortfolio()\n",
    "    adjustedIssuerCurves = indexPortfolio.hazard_rate_adjust_intrinsic(value_date, \n",
    "                                                                    issuer_curves, \n",
    "                                                                    indexSpreads, \n",
    "                                                                    index_upfronts,\n",
    "                                                                    index_maturity_dates, \n",
    "                                                                    indexRecovery, \n",
    "                                                                    tolerance)        \n",
    "        \n",
    "    for strike in np.linspace(20, 60, 5):    \n",
    "\n",
    "        option = CDSIndexOption(expiry_date,\n",
    "                                   maturity_date, \n",
    "                                   index_coupon, \n",
    "                                   strike / 10000.0, \n",
    "                                   notional)\n",
    "        \n",
    "        v_pay_1, v_rec_1, strike_value, mu, expH = option.value_anderson(value_date, \n",
    "                                                                       adjustedIssuerCurves, \n",
    "                                                                       indexRecovery,\n",
    "                                                                       volatility)\n",
    "\n",
    "        v_pay_2, v_rec_2 = option.value_adjusted_black(value_date,\n",
    "                                                     index_curve, \n",
    "                                                     indexRecovery, \n",
    "                                                     libor_curve,\n",
    "                                                     volatility)\n",
    "            \n",
    "        print(\"%6.3f   %6.3f   %8.3f   %8.3f   %8.3f   %8.2f   %8.2f   %8.2f   %8.2f\" % \n",
    "              (strike, index, v_pay_1, v_rec_1, strike_value, mu, expH, v_pay_2, v_rec_2 ))"
   ]
  },
  {
   "cell_type": "code",
   "execution_count": null,
   "metadata": {},
   "outputs": [
    {
     "name": "stdout",
     "output_type": "stream",
     "text": [
      "OBJECT TYPE: CDSIndexOption\n",
      "EXPIRY DATE: 01-FEB-2008\n",
      "MATURITY DATE: 20-DEC-2011\n",
      "INDEX COUPON: 40.0bp\n",
      "NOTIONAL: 10000\n",
      "LONG PROTECTION: True\n",
      "FREQUENCY: FrequencyTypes.QUARTERLY\n",
      "DAYCOUNT: DayCountTypes.ACT_360\n",
      "CALENDAR: CalendarTypes.WEEKEND\n",
      "BUSDAYRULE: BusDayAdjustTypes.FOLLOWING\n",
      "DATEGENRULE: DateGenRuleTypes.BACKWARD\n",
      "\n"
     ]
    }
   ],
   "source": [
    "print(option)"
   ]
  },
  {
   "cell_type": "markdown",
   "metadata": {},
   "source": [
    "Copyright (c) 2020 Dominic O'Kane"
   ]
  }
 ],
 "metadata": {
  "kernelspec": {
   "display_name": "Python 3",
   "language": "python",
   "name": "python3"
  },
  "language_info": {
   "codemirror_mode": {
    "name": "ipython",
    "version": 3
   },
   "file_extension": ".py",
   "mimetype": "text/x-python",
   "name": "python",
   "nbconvert_exporter": "python",
   "pygments_lexer": "ipython3",
   "version": "3.10.13"
  }
 },
 "nbformat": 4,
 "nbformat_minor": 2
}
