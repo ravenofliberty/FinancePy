{
 "cells": [
  {
   "cell_type": "markdown",
   "metadata": {},
   "source": [
    "# Creating and Valuing a CDS Contract"
   ]
  },
  {
   "cell_type": "markdown",
   "metadata": {},
   "source": [
    "Creates a CDS contract and does a valuation and calculates risk measures"
   ]
  },
  {
   "cell_type": "code",
   "execution_count": 1,
   "metadata": {},
   "outputs": [],
   "source": [
    "import numpy as np\n",
    "import matplotlib.pyplot as plt"
   ]
  },
  {
   "cell_type": "code",
   "execution_count": 2,
   "metadata": {},
   "outputs": [
    {
     "name": "stdout",
     "output_type": "stream",
     "text": [
      "####################################################################\n",
      "# FINANCEPY BETA Version 0.33 - This build:  11 Nov 2023 at 07:47 #\n",
      "#     This software is distributed FREE AND WITHOUT ANY WARRANTY   #\n",
      "#  Report bugs as issues at https://github.com/domokane/FinancePy  #\n",
      "####################################################################\n",
      "\n"
     ]
    }
   ],
   "source": [
    "from financepy.utils import *\n",
    "from financepy.products.rates import *\n",
    "from financepy.products.credit import *"
   ]
  },
  {
   "cell_type": "markdown",
   "metadata": {},
   "source": [
    "## Creating a CDS Contract"
   ]
  },
  {
   "cell_type": "code",
   "execution_count": 3,
   "metadata": {},
   "outputs": [],
   "source": [
    "value_date = Date(9, 8, 2019)\n",
    "effective_date = value_date\n",
    "maturity_date = Date(20, 6, 2029)\n",
    "cdsCoupon = 0.0150\n",
    "notional = ONE_MILLION\n",
    "long_protection = False\n",
    "tradeDate = Date(9, 8, 2019)"
   ]
  },
  {
   "cell_type": "code",
   "execution_count": 4,
   "metadata": {},
   "outputs": [],
   "source": [
    "cds_contract = CDS(effective_date, maturity_date, cdsCoupon, notional, long_protection)"
   ]
  },
  {
   "cell_type": "markdown",
   "metadata": {},
   "source": [
    "## Build Ibor Curve"
   ]
  },
  {
   "cell_type": "code",
   "execution_count": 5,
   "metadata": {},
   "outputs": [],
   "source": [
    "settle_date = effective_date"
   ]
  },
  {
   "cell_type": "code",
   "execution_count": 6,
   "metadata": {},
   "outputs": [],
   "source": [
    "dcType = DayCountTypes.ACT_360\n",
    "depo1 = IborDeposit(settle_date, \"1M\", 0.022009, dcType)\n",
    "depo2 = IborDeposit(settle_date, \"2M\", 0.022138, dcType)\n",
    "depo3 = IborDeposit(settle_date, \"3M\", 0.021810, dcType)\n",
    "depo4 = IborDeposit(settle_date, \"6M\", 0.020503, dcType)\n",
    "depo5 = IborDeposit(settle_date, \"12M\", 0.019930, dcType)\n",
    "depos = [depo1,depo2,depo3,depo4,depo5]\n",
    "\n",
    "dcType = DayCountTypes.THIRTY_E_360_ISDA\n",
    "fixedFreq = FrequencyTypes.SEMI_ANNUAL\n",
    "swapType = SwapTypes.PAY\n",
    "\n",
    "swap1 = IborSwap(settle_date,\"2Y\",swapType,0.015910,fixedFreq,dcType)\n",
    "swap2 = IborSwap(settle_date,\"3Y\",swapType,0.014990,fixedFreq,dcType)\n",
    "swap3 = IborSwap(settle_date,\"4Y\",swapType,0.014725,fixedFreq,dcType)\n",
    "swap4 = IborSwap(settle_date,\"5Y\",swapType,0.014640,fixedFreq,dcType)\n",
    "swap5 = IborSwap(settle_date,\"6Y\",swapType,0.014800,fixedFreq,dcType)\n",
    "swap6 = IborSwap(settle_date,\"7Y\",swapType,0.014995,fixedFreq,dcType)\n",
    "swap7 = IborSwap(settle_date,\"8Y\",swapType,0.015180,fixedFreq,dcType)\n",
    "swap8 = IborSwap(settle_date,\"9Y\",swapType,0.015610,fixedFreq,dcType)\n",
    "swap9 = IborSwap(settle_date,\"10Y\",swapType,0.0159880,fixedFreq,dcType)\n",
    "swap10 = IborSwap(settle_date,\"12Y\",swapType,0.016430,fixedFreq,dcType)\n",
    "swaps = [swap1,swap2,swap3,swap4,swap5,swap6,swap7,swap8,swap9,swap10]\n",
    "\n",
    "libor_curve = IborSingleCurve(value_date, depos, [], swaps)"
   ]
  },
  {
   "cell_type": "markdown",
   "metadata": {},
   "source": [
    "# Build a CDS Curve"
   ]
  },
  {
   "cell_type": "code",
   "execution_count": 7,
   "metadata": {},
   "outputs": [],
   "source": [
    "cds1 = CDS(settle_date, \"1Y\", 0.0200)\n",
    "cds2 = CDS(settle_date, \"2Y\", 0.0220)\n",
    "cds3 = CDS(settle_date, \"3Y\", 0.0250)\n",
    "cds4 = CDS(settle_date, \"4Y\", 0.0275)\n",
    "cds5 = CDS(settle_date, \"5Y\", 0.0290)\n",
    "cds6 = CDS(settle_date, \"7Y\", 0.0300)\n",
    "cds7 = CDS(settle_date, \"10Y\", 0.0310)\n",
    "cds8 = CDS(settle_date, \"15Y\", 0.0315)"
   ]
  },
  {
   "cell_type": "code",
   "execution_count": 8,
   "metadata": {},
   "outputs": [],
   "source": [
    "cdss = [cds1, cds2, cds3, cds4, cds5, cds6, cds7, cds8]"
   ]
  },
  {
   "cell_type": "code",
   "execution_count": 9,
   "metadata": {},
   "outputs": [],
   "source": [
    "recovery_rate = 0.40"
   ]
  },
  {
   "cell_type": "code",
   "execution_count": 10,
   "metadata": {},
   "outputs": [],
   "source": [
    "issuer_curve = CDSCurve(value_date, cdss, libor_curve, recovery_rate)"
   ]
  },
  {
   "cell_type": "code",
   "execution_count": 11,
   "metadata": {},
   "outputs": [
    {
     "name": "stdout",
     "output_type": "stream",
     "text": [
      "OBJECT TYPE: CDSCurve\n",
      "TIME,SURVIVAL_PROBABILITY\n",
      " 0.0000000,  1.0000000\n",
      " 1.1178082,  0.9630225\n",
      " 2.1178082,  0.9242448\n",
      " 3.1178082,  0.8757579\n",
      " 4.1178082,  0.8236065\n",
      " 5.1205479,  0.7744884\n",
      " 7.1205479,  0.6922011\n",
      "10.1232877,  0.5814139\n",
      "15.1260274,  0.4390083\n"
     ]
    }
   ],
   "source": [
    "print(issuer_curve)"
   ]
  },
  {
   "cell_type": "markdown",
   "metadata": {},
   "source": [
    "# Valuation"
   ]
  },
  {
   "cell_type": "code",
   "execution_count": 12,
   "metadata": {},
   "outputs": [
    {
     "name": "stdout",
     "output_type": "stream",
     "text": [
      "FAIR CDS SPREAD  309.40594 bp\n"
     ]
    }
   ],
   "source": [
    "spd = cds_contract.par_spread(settle_date, issuer_curve, recovery_rate) * 10000.0\n",
    "print(\"FAIR CDS SPREAD %10.5f bp\"% spd)"
   ]
  },
  {
   "cell_type": "code",
   "execution_count": 13,
   "metadata": {},
   "outputs": [],
   "source": [
    "v = cds_contract.value(settle_date, issuer_curve, recovery_rate)"
   ]
  },
  {
   "cell_type": "code",
   "execution_count": 14,
   "metadata": {},
   "outputs": [],
   "source": [
    "dirty_pv = v['dirty_pv'] \n",
    "clean_pv = v['clean_pv']"
   ]
  },
  {
   "cell_type": "code",
   "execution_count": 15,
   "metadata": {},
   "outputs": [
    {
     "name": "stdout",
     "output_type": "stream",
     "text": [
      "DIRTY VALUE   -115756.79\n",
      "CLEAN VALUE   -117840.12\n"
     ]
    }
   ],
   "source": [
    "print(\"DIRTY VALUE %12.2f\"% dirty_pv)\n",
    "print(\"CLEAN VALUE %12.2f\"% clean_pv)"
   ]
  },
  {
   "cell_type": "code",
   "execution_count": 16,
   "metadata": {},
   "outputs": [
    {
     "name": "stdout",
     "output_type": "stream",
     "text": [
      "CLEAN PRICE    88.215988\n"
     ]
    }
   ],
   "source": [
    "cleanp = cds_contract.clean_price(settle_date, issuer_curve, recovery_rate)\n",
    "print(\"CLEAN PRICE %12.6f\"% cleanp)"
   ]
  },
  {
   "cell_type": "code",
   "execution_count": 17,
   "metadata": {},
   "outputs": [
    {
     "name": "stdout",
     "output_type": "stream",
     "text": [
      "ACCRUED_DAYS 50.0\n"
     ]
    }
   ],
   "source": [
    "accrued_days = cds_contract.accrued_days()\n",
    "print(\"ACCRUED_DAYS\", accrued_days)"
   ]
  },
  {
   "cell_type": "code",
   "execution_count": 18,
   "metadata": {},
   "outputs": [
    {
     "name": "stdout",
     "output_type": "stream",
     "text": [
      "ACCRUED_COUPON 2083.3333333333335\n"
     ]
    }
   ],
   "source": [
    "accrued_interest = cds_contract.accrued_interest()\n",
    "print(\"ACCRUED_COUPON\", accrued_interest)"
   ]
  },
  {
   "cell_type": "code",
   "execution_count": 19,
   "metadata": {},
   "outputs": [
    {
     "name": "stdout",
     "output_type": "stream",
     "text": [
      "PROTECTION_PV 228726.9467424124\n"
     ]
    }
   ],
   "source": [
    "prot_pv = cds_contract.protection_leg_pv(settle_date, issuer_curve, recovery_rate)\n",
    "print(\"PROTECTION_PV\", prot_pv)"
   ]
  },
  {
   "cell_type": "code",
   "execution_count": 20,
   "metadata": {},
   "outputs": [
    {
     "name": "stdout",
     "output_type": "stream",
     "text": [
      "PREMIUM_PV 112970.15765938828\n"
     ]
    }
   ],
   "source": [
    "premPV = cds_contract.premium_leg_pv(settle_date, issuer_curve, recovery_rate)\n",
    "print(\"PREMIUM_PV\", premPV)"
   ]
  },
  {
   "cell_type": "code",
   "execution_count": 21,
   "metadata": {},
   "outputs": [
    {
     "name": "stdout",
     "output_type": "stream",
     "text": [
      "DIRTY_RPV01 7.531343843959219\n",
      "CLEAN_RPV01 7.392454955070329\n"
     ]
    }
   ],
   "source": [
    "rpv01 = cds_contract.risky_pv01(settle_date, issuer_curve)\n",
    "print(\"DIRTY_RPV01\", rpv01['dirty_rpv01'])\n",
    "print(\"CLEAN_RPV01\", rpv01['clean_rpv01'])"
   ]
  },
  {
   "cell_type": "code",
   "execution_count": 22,
   "metadata": {},
   "outputs": [
    {
     "data": {
      "text/plain": [
       "{'dirty_rpv01': 7.531343843959219, 'clean_rpv01': 7.392454955070329}"
      ]
     },
     "execution_count": 22,
     "metadata": {},
     "output_type": "execute_result"
    }
   ],
   "source": [
    "cds_contract.risky_pv01(settle_date, issuer_curve)"
   ]
  },
  {
   "cell_type": "markdown",
   "metadata": {},
   "source": [
    "## Risk Measures"
   ]
  },
  {
   "cell_type": "code",
   "execution_count": 23,
   "metadata": {},
   "outputs": [],
   "source": [
    "credit_dv01 = cds_contract.credit_dv01(settle_date, issuer_curve, recovery_rate)"
   ]
  },
  {
   "cell_type": "code",
   "execution_count": 24,
   "metadata": {},
   "outputs": [
    {
     "data": {
      "text/plain": [
       "-650.5636208889919"
      ]
     },
     "execution_count": 24,
     "metadata": {},
     "output_type": "execute_result"
    }
   ],
   "source": [
    "credit_dv01"
   ]
  },
  {
   "cell_type": "markdown",
   "metadata": {},
   "source": [
    "Copyright (c) 2020 Dominic O'Kane"
   ]
  }
 ],
 "metadata": {
  "kernelspec": {
   "display_name": "Python 3",
   "language": "python",
   "name": "python3"
  },
  "language_info": {
   "codemirror_mode": {
    "name": "ipython",
    "version": 3
   },
   "file_extension": ".py",
   "mimetype": "text/x-python",
   "name": "python",
   "nbconvert_exporter": "python",
   "pygments_lexer": "ipython3",
   "version": "3.10.13"
  }
 },
 "nbformat": 4,
 "nbformat_minor": 2
}
