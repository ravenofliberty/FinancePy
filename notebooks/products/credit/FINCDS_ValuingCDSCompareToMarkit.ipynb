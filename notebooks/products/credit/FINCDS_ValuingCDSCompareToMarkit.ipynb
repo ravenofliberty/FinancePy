{
 "cells": [
  {
   "cell_type": "markdown",
   "metadata": {},
   "source": [
    "# Creating and Valuing a CDS Contract vs Markit"
   ]
  },
  {
   "cell_type": "markdown",
   "metadata": {},
   "source": [
    "Example CDS Valuation and comparison with market standard ISDA model on Markit website"
   ]
  },
  {
   "cell_type": "code",
   "execution_count": 1,
   "metadata": {},
   "outputs": [],
   "source": [
    "import numpy as np\n",
    "import matplotlib.pyplot as plt"
   ]
  },
  {
   "cell_type": "code",
   "execution_count": 2,
   "metadata": {},
   "outputs": [
    {
     "name": "stdout",
     "output_type": "stream",
     "text": [
      "####################################################################\n",
      "# FINANCEPY BETA Version 0.33 - This build:  11 Nov 2023 at 07:47 #\n",
      "#     This software is distributed FREE AND WITHOUT ANY WARRANTY   #\n",
      "#  Report bugs as issues at https://github.com/domokane/FinancePy  #\n",
      "####################################################################\n",
      "\n"
     ]
    }
   ],
   "source": [
    "from financepy.utils import *\n",
    "from financepy.products.rates import *\n",
    "from financepy.products.credit import *"
   ]
  },
  {
   "cell_type": "markdown",
   "metadata": {},
   "source": [
    "## Creating a CDS Contract"
   ]
  },
  {
   "cell_type": "markdown",
   "metadata": {},
   "source": [
    "This based on an example from Markit's CDS calculator website https://www.markit.com/markit.jsp?jsppage=pv.jsp"
   ]
  },
  {
   "cell_type": "code",
   "execution_count": 3,
   "metadata": {},
   "outputs": [],
   "source": [
    "value_date = Date(21, 11, 2019)\n",
    "settle_date = value_date.add_days(1)\n",
    "maturity_date = Date(20, 12, 2024)\n",
    "cds_coupon = 0.050\n",
    "notional = ONE_MILLION\n",
    "long_protection = True\n",
    "tradeDate = Date(9, 8, 2019)"
   ]
  },
  {
   "cell_type": "code",
   "execution_count": 4,
   "metadata": {},
   "outputs": [],
   "source": [
    "cds_contract = CDS(settle_date, maturity_date, cds_coupon, notional, long_protection)"
   ]
  },
  {
   "cell_type": "code",
   "execution_count": 5,
   "metadata": {},
   "outputs": [
    {
     "name": "stdout",
     "output_type": "stream",
     "text": [
      "OBJECT TYPE: CDS\n",
      "STEP-IN DATE: 22-NOV-2019\n",
      "MATURITY: 20-DEC-2024\n",
      "NOTIONAL: 1000000\n",
      "RUNNING COUPON: 500.0bp\n",
      "DAYCOUNT: DayCountTypes.ACT_360\n",
      "FREQUENCY: FrequencyTypes.QUARTERLY\n",
      "CALENDAR: CalendarTypes.WEEKEND\n",
      "BUSDAYRULE: BusDayAdjustTypes.FOLLOWING\n",
      "DATEGENRULE: DateGenRuleTypes.BACKWARD\n",
      "ACCRUED DAYS: 63.0\n",
      "PAYMENT_DATE, YEAR_FRAC, ACCRUAL_START, ACCRUAL_END, FLOW\n",
      "20-DEC-2019,     0.252778, 20-SEP-2019, 19-DEC-2019, 12638.888889\n",
      "20-MAR-2020,     0.252778, 20-DEC-2019, 19-MAR-2020, 12638.888889\n",
      "22-JUN-2020,     0.261111, 20-MAR-2020, 21-JUN-2020, 13055.555556\n",
      "21-SEP-2020,     0.252778, 22-JUN-2020, 20-SEP-2020, 12638.888889\n",
      "21-DEC-2020,     0.252778, 21-SEP-2020, 20-DEC-2020, 12638.888889\n",
      "22-MAR-2021,     0.252778, 21-DEC-2020, 21-MAR-2021, 12638.888889\n",
      "21-JUN-2021,     0.252778, 22-MAR-2021, 20-JUN-2021, 12638.888889\n",
      "20-SEP-2021,     0.252778, 21-JUN-2021, 19-SEP-2021, 12638.888889\n",
      "20-DEC-2021,     0.252778, 20-SEP-2021, 19-DEC-2021, 12638.888889\n",
      "21-MAR-2022,     0.252778, 20-DEC-2021, 20-MAR-2022, 12638.888889\n",
      "20-JUN-2022,     0.252778, 21-MAR-2022, 19-JUN-2022, 12638.888889\n",
      "20-SEP-2022,     0.255556, 20-JUN-2022, 19-SEP-2022, 12777.777778\n",
      "20-DEC-2022,     0.252778, 20-SEP-2022, 19-DEC-2022, 12638.888889\n",
      "20-MAR-2023,     0.250000, 20-DEC-2022, 19-MAR-2023, 12500.000000\n",
      "20-JUN-2023,     0.255556, 20-MAR-2023, 19-JUN-2023, 12777.777778\n",
      "20-SEP-2023,     0.255556, 20-JUN-2023, 19-SEP-2023, 12777.777778\n",
      "20-DEC-2023,     0.252778, 20-SEP-2023, 19-DEC-2023, 12638.888889\n",
      "20-MAR-2024,     0.252778, 20-DEC-2023, 19-MAR-2024, 12638.888889\n",
      "20-JUN-2024,     0.255556, 20-MAR-2024, 19-JUN-2024, 12777.777778\n",
      "20-SEP-2024,     0.255556, 20-JUN-2024, 19-SEP-2024, 12777.777778\n",
      "20-DEC-2024,     0.255556, 20-SEP-2024, 20-DEC-2024, 12777.777778\n"
     ]
    }
   ],
   "source": [
    "print(cds_contract)"
   ]
  },
  {
   "cell_type": "markdown",
   "metadata": {},
   "source": [
    "## Build Ibor Curve"
   ]
  },
  {
   "cell_type": "code",
   "execution_count": 6,
   "metadata": {},
   "outputs": [],
   "source": [
    "dcType = DayCountTypes.ACT_360\n",
    "depo1 = IborDeposit(settle_date, \"1M\", 0.017156, dcType)\n",
    "depo2 = IborDeposit(settle_date, \"2M\", 0.018335, dcType)\n",
    "depo3 = IborDeposit(settle_date, \"3M\", 0.018988, dcType)\n",
    "depo4 = IborDeposit(settle_date, \"6M\", 0.018911, dcType)\n",
    "depo5 = IborDeposit(settle_date, \"12M\", 0.019093, dcType)\n",
    "depos = [depo1,depo2,depo3,depo4,depo5]\n",
    "\n",
    "swapType = SwapTypes.PAY\n",
    "dcType = DayCountTypes.THIRTY_E_360_ISDA\n",
    "fixedFreq = FrequencyTypes.SEMI_ANNUAL\n",
    "swap1 = IborSwap(settle_date,\"2Y\",swapType,0.015630,fixedFreq,dcType)\n",
    "swap2 = IborSwap(settle_date,\"3Y\",swapType,0.015140,fixedFreq,dcType)\n",
    "swap3 = IborSwap(settle_date,\"4Y\",swapType,0.015065,fixedFreq,dcType)\n",
    "swap4 = IborSwap(settle_date,\"5Y\",swapType,0.015140,fixedFreq,dcType)\n",
    "swap5 = IborSwap(settle_date,\"6Y\",swapType,0.015270,fixedFreq,dcType)\n",
    "swap6 = IborSwap(settle_date,\"7Y\",swapType,0.015470,fixedFreq,dcType)\n",
    "swap7 = IborSwap(settle_date,\"8Y\",swapType,0.015720,fixedFreq,dcType)\n",
    "swap8 = IborSwap(settle_date,\"9Y\",swapType,0.016000,fixedFreq,dcType)\n",
    "swap9 = IborSwap(settle_date,\"10Y\",swapType,0.016285,fixedFreq,dcType)\n",
    "swap10 = IborSwap(settle_date,\"12Y\",swapType,0.01670,fixedFreq,dcType)\n",
    "swaps = [swap1,swap2,swap3,swap4,swap5,swap6,swap7,swap8,swap9,swap10]\n",
    "\n",
    "libor_curve = IborSingleCurve(value_date, depos, [], swaps)"
   ]
  },
  {
   "cell_type": "markdown",
   "metadata": {},
   "source": [
    "# Build a CDS Curve"
   ]
  },
  {
   "cell_type": "code",
   "execution_count": 7,
   "metadata": {},
   "outputs": [],
   "source": [
    "cdsFlatSpread = 0.0100"
   ]
  },
  {
   "cell_type": "code",
   "execution_count": 8,
   "metadata": {},
   "outputs": [],
   "source": [
    "cds1 = CDS(settle_date, \"1Y\", cdsFlatSpread)\n",
    "cds2 = CDS(settle_date, \"2Y\", cdsFlatSpread)\n",
    "cds3 = CDS(settle_date, \"3Y\", cdsFlatSpread)\n",
    "cds4 = CDS(settle_date, \"4Y\", cdsFlatSpread)\n",
    "cds5 = CDS(settle_date, \"5Y\", cdsFlatSpread)\n",
    "cds6 = CDS(settle_date, \"7Y\", cdsFlatSpread)\n",
    "cds7 = CDS(settle_date, \"10Y\", cdsFlatSpread)\n",
    "cds8 = CDS(settle_date, \"15Y\", cdsFlatSpread)"
   ]
  },
  {
   "cell_type": "code",
   "execution_count": 9,
   "metadata": {},
   "outputs": [],
   "source": [
    "cdss = [cds1, cds2, cds3, cds4, cds5, cds6, cds7, cds8]"
   ]
  },
  {
   "cell_type": "code",
   "execution_count": 10,
   "metadata": {},
   "outputs": [],
   "source": [
    "recovery_rate = 0.40"
   ]
  },
  {
   "cell_type": "code",
   "execution_count": 11,
   "metadata": {},
   "outputs": [],
   "source": [
    "issuer_curve = CDSCurve(value_date, cdss, libor_curve, recovery_rate)"
   ]
  },
  {
   "cell_type": "markdown",
   "metadata": {},
   "source": [
    "# Valuation Results"
   ]
  },
  {
   "cell_type": "code",
   "execution_count": 12,
   "metadata": {},
   "outputs": [
    {
     "name": "stdout",
     "output_type": "stream",
     "text": [
      "FAIR CDS SPREAD  100.00000 bp\n"
     ]
    }
   ],
   "source": [
    "spd = cds_contract.par_spread(value_date, issuer_curve, recovery_rate) * 10000.0\n",
    "print(\"FAIR CDS SPREAD %10.5f bp\"% spd)"
   ]
  },
  {
   "cell_type": "code",
   "execution_count": 13,
   "metadata": {},
   "outputs": [
    {
     "name": "stdout",
     "output_type": "stream",
     "text": [
      "DIRTY VALUE   -198532.56\n",
      "CLEAN VALUE   -189782.56\n"
     ]
    }
   ],
   "source": [
    "v = cds_contract.value(value_date, issuer_curve, recovery_rate)\n",
    "dirty_pv = v['dirty_pv']\n",
    "clean_pv = v['clean_pv']\n",
    "\n",
    "print(\"DIRTY VALUE %12.2f\"% dirty_pv)\n",
    "print(\"CLEAN VALUE %12.2f\"% clean_pv)"
   ]
  },
  {
   "cell_type": "markdown",
   "metadata": {},
   "source": [
    "MARKIT CALCULATE -198,551 for the DIRTY VALUE"
   ]
  },
  {
   "cell_type": "code",
   "execution_count": 14,
   "metadata": {},
   "outputs": [
    {
     "name": "stdout",
     "output_type": "stream",
     "text": [
      "CLEAN PRICE   118.979986\n"
     ]
    }
   ],
   "source": [
    "cleanp = cds_contract.clean_price(settle_date, issuer_curve, recovery_rate)\n",
    "print(\"CLEAN PRICE %12.6f\"% cleanp)"
   ]
  },
  {
   "cell_type": "markdown",
   "metadata": {},
   "source": [
    "MARKIT CALCULATE 118.98%"
   ]
  },
  {
   "cell_type": "code",
   "execution_count": 15,
   "metadata": {},
   "outputs": [
    {
     "name": "stdout",
     "output_type": "stream",
     "text": [
      "ACCRUED_DAYS 63.0\n"
     ]
    }
   ],
   "source": [
    "accrued_days = cds_contract.accrued_days()\n",
    "print(\"ACCRUED_DAYS\", accrued_days)"
   ]
  },
  {
   "cell_type": "markdown",
   "metadata": {},
   "source": [
    "MARKIT CALCULATE 63"
   ]
  },
  {
   "cell_type": "code",
   "execution_count": 16,
   "metadata": {},
   "outputs": [
    {
     "name": "stdout",
     "output_type": "stream",
     "text": [
      "ACCRUED_COUPON -8750.0\n"
     ]
    }
   ],
   "source": [
    "accrued_interest = cds_contract.accrued_interest()\n",
    "print(\"ACCRUED_COUPON\", accrued_interest)"
   ]
  },
  {
   "cell_type": "markdown",
   "metadata": {},
   "source": [
    "MARKIT CALCULATE 8750"
   ]
  },
  {
   "cell_type": "code",
   "execution_count": 17,
   "metadata": {},
   "outputs": [
    {
     "name": "stdout",
     "output_type": "stream",
     "text": [
      "PROTECTION_PV 47449.85309441838\n"
     ]
    }
   ],
   "source": [
    "prot_pv = cds_contract.protection_leg_pv(settle_date, issuer_curve, recovery_rate)\n",
    "print(\"PROTECTION_PV\", prot_pv)"
   ]
  },
  {
   "cell_type": "code",
   "execution_count": 18,
   "metadata": {},
   "outputs": [
    {
     "name": "stdout",
     "output_type": "stream",
     "text": [
      "PREMIUM_PV 245999.7152967746\n"
     ]
    }
   ],
   "source": [
    "premPV = cds_contract.premium_leg_pv(settle_date, issuer_curve, recovery_rate)\n",
    "print(\"PREMIUM_PV\", premPV)"
   ]
  },
  {
   "cell_type": "markdown",
   "metadata": {},
   "source": [
    "## Risk Measures"
   ]
  },
  {
   "cell_type": "code",
   "execution_count": 19,
   "metadata": {},
   "outputs": [
    {
     "name": "stdout",
     "output_type": "stream",
     "text": [
      "Credit DV01        553.53\n"
     ]
    }
   ],
   "source": [
    "credit_dv01 = cds_contract.credit_dv01(settle_date, issuer_curve, recovery_rate)\n",
    "print(\"Credit DV01  %12.2f\"% credit_dv01)"
   ]
  },
  {
   "cell_type": "markdown",
   "metadata": {},
   "source": [
    "MARKIT FOUND 554"
   ]
  },
  {
   "cell_type": "code",
   "execution_count": 20,
   "metadata": {},
   "outputs": [
    {
     "name": "stdout",
     "output_type": "stream",
     "text": [
      "Interest DV01         48.82\n"
     ]
    }
   ],
   "source": [
    "interest_dv01 = cds_contract.interest_dv01(settle_date, issuer_curve, recovery_rate)\n",
    "print(\"Interest DV01  %12.2f\"% interest_dv01)"
   ]
  },
  {
   "cell_type": "markdown",
   "metadata": {},
   "source": [
    "MARKIT FOUND 49"
   ]
  },
  {
   "cell_type": "markdown",
   "metadata": {},
   "source": [
    "## Full Analysis "
   ]
  },
  {
   "cell_type": "code",
   "execution_count": 22,
   "metadata": {},
   "outputs": [
    {
     "name": "stdout",
     "output_type": "stream",
     "text": [
      "PAYMENT_DATE      YEAR_FRAC      FLOW           DF       SURV_PROB      NPV\n",
      "    20-DEC-2019   0.252778     12638.89     0.998620     0.998658     12604.51\n",
      "    20-MAR-2020   0.252778     12638.89     0.993728     0.994459     12490.03\n",
      "    22-JUN-2020   0.261111     13055.56     0.988864     0.990141     12782.88\n",
      "    21-SEP-2020   0.252778     12638.89     0.984127     0.985978     12263.86\n",
      "    21-DEC-2020   0.252778     12638.89     0.979968     0.981833     12160.69\n",
      "    22-MAR-2021   0.252778     12638.89     0.977072     0.977711     12073.86\n",
      "    21-JUN-2021   0.252778     12638.89     0.974185     0.973607     11987.65\n",
      "    20-SEP-2021   0.252778     12638.89     0.971306     0.969521     11902.05\n",
      "    20-DEC-2021   0.252778     12638.89     0.968270     0.965451     11815.05\n",
      "    21-MAR-2022   0.252778     12638.89     0.964873     0.961400     11724.19\n",
      "    20-JUN-2022   0.252778     12638.89     0.961488     0.957365     11634.03\n",
      "    20-SEP-2022   0.255556     12777.78     0.958078     0.953304     11670.44\n",
      "    20-DEC-2022   0.252778     12638.89     0.954666     0.949303     11454.22\n",
      "    20-MAR-2023   0.250000     12500.00     0.951193     0.945363     11240.29\n",
      "    20-JUN-2023   0.255556     12777.78     0.947656     0.941353     11398.78\n",
      "    20-SEP-2023   0.255556     12777.78     0.944132     0.937360     11308.22\n",
      "    20-DEC-2023   0.252778     12638.89     0.940615     0.933426     11096.88\n",
      "    20-MAR-2024   0.252778     12638.89     0.937013     0.929510     11008.01\n",
      "    20-JUN-2024   0.255556     12777.78     0.933386     0.925567     11038.86\n",
      "    20-SEP-2024   0.255556     12777.78     0.929772     0.921641     10949.48\n",
      "    20-DEC-2024   0.255556     12777.78     0.926176     0.917774     10861.37\n"
     ]
    }
   ],
   "source": [
    "cds_contract.print_payments(value_date, issuer_curve)"
   ]
  },
  {
   "cell_type": "code",
   "execution_count": null,
   "metadata": {},
   "outputs": [],
   "source": []
  }
 ],
 "metadata": {
  "kernelspec": {
   "display_name": "Python 3",
   "language": "python",
   "name": "python3"
  },
  "language_info": {
   "codemirror_mode": {
    "name": "ipython",
    "version": 3
   },
   "file_extension": ".py",
   "mimetype": "text/x-python",
   "name": "python",
   "nbconvert_exporter": "python",
   "pygments_lexer": "ipython3",
   "version": "3.10.13"
  }
 },
 "nbformat": 4,
 "nbformat_minor": 2
}
